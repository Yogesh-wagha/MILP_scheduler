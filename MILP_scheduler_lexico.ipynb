{
 "cells": [
  {
   "cell_type": "code",
   "execution_count": 1,
   "metadata": {},
   "outputs": [
    {
     "name": "stderr",
     "output_type": "stream",
     "text": [
      "/u/ywagh/.local/lib/python3.10/site-packages/ligo/lw/lsctables.py:89: UserWarning: Wswiglal-redir-stdio:\n",
      "\n",
      "SWIGLAL standard output/error redirection is enabled in IPython.\n",
      "This may lead to performance penalties. To disable locally, use:\n",
      "\n",
      "with lal.no_swig_redirect_standard_output_error():\n",
      "    ...\n",
      "\n",
      "To disable globally, use:\n",
      "\n",
      "lal.swig_redirect_standard_output_error(False)\n",
      "\n",
      "Note however that this will likely lead to error messages from\n",
      "LAL functions being either misdirected or lost when called from\n",
      "Jupyter notebooks.\n",
      "\n",
      "To suppress this warning, use:\n",
      "\n",
      "import warnings\n",
      "warnings.filterwarnings(\"ignore\", \"Wswiglal-redir-stdio\")\n",
      "import lal\n",
      "\n",
      "  import lal\n"
     ]
    }
   ],
   "source": [
    "import astroplan\n",
    "from astropy.coordinates import ICRS, SkyCoord, AltAz, get_moon, EarthLocation, get_body\n",
    "from astropy import units as u\n",
    "from astropy.utils.data import download_file\n",
    "from astropy.table import Table, QTable, join\n",
    "from astropy.time import Time, TimeDelta\n",
    "from astropy_healpix import *\n",
    "from ligo.skymap import plot\n",
    "from ligo.skymap.io import read_sky_map\n",
    "import healpy as hp\n",
    "import os\n",
    "from matplotlib import pyplot as plt\n",
    "import numpy as np\n",
    "from tqdm.auto import tqdm\n",
    "import datetime as dt\n",
    "import pickle\n",
    "import pandas as pd\n",
    "from docplex.mp.model import Model\n",
    "\n",
    "import warnings\n",
    "warnings.filterwarnings(\"ignore\", \"Wswiglal-redir-stdio\")\n",
    "warnings.simplefilter('ignore', astroplan.TargetNeverUpWarning)\n",
    "warnings.simplefilter('ignore', astroplan.TargetAlwaysUpWarning)"
   ]
  },
  {
   "cell_type": "code",
   "execution_count": 2,
   "metadata": {},
   "outputs": [],
   "source": [
    "directory_path = \"/u/ywagh/test_skymaps/\"\n",
    "filelist = sorted([f for f in os.listdir(directory_path) if f.endswith('.gz')])"
   ]
  },
  {
   "cell_type": "code",
   "execution_count": 3,
   "metadata": {},
   "outputs": [],
   "source": [
    "slew_speed = 2.5 * u.deg / u.s\n",
    "slew_accel = 0.4 * u.deg / u.s**2\n",
    "readout = 8.2 * u.s"
   ]
  },
  {
   "cell_type": "code",
   "execution_count": 4,
   "metadata": {},
   "outputs": [],
   "source": [
    "ns_nchips = 4\n",
    "ew_nchips = 4\n",
    "ns_npix = 6144\n",
    "ew_npix = 6160\n",
    "plate_scale = 1.01 * u.arcsec\n",
    "ns_chip_gap = 0.205 * u.deg\n",
    "ew_chip_gap = 0.140 * u.deg\n",
    "\n",
    "ns_total = ns_nchips * ns_npix * plate_scale + (ns_nchips - 1) * ns_chip_gap\n",
    "ew_total = ew_nchips * ew_npix * plate_scale + (ew_nchips - 1) * ew_chip_gap\n",
    "\n",
    "rcid = np.arange(64)\n",
    "\n",
    "chipid, rc_in_chip_id = np.divmod(rcid, 4)\n",
    "ns_chip_index, ew_chip_index = np.divmod(chipid, ew_nchips)\n",
    "ns_rc_in_chip_index = np.where(rc_in_chip_id <= 1, 1, 0)\n",
    "ew_rc_in_chip_index = np.where((rc_in_chip_id == 0) | (rc_in_chip_id == 3), 0, 1)\n",
    "\n",
    "ew_offsets = ew_chip_gap * (ew_chip_index - (ew_nchips - 1) / 2) + ew_npix * plate_scale * (ew_chip_index - ew_nchips / 2) + 0.5 * ew_rc_in_chip_index * plate_scale * ew_npix\n",
    "ns_offsets = ns_chip_gap * (ns_chip_index - (ns_nchips - 1) / 2) + ns_npix * plate_scale * (ns_chip_index - ns_nchips / 2) + 0.5 * ns_rc_in_chip_index * plate_scale * ns_npix\n",
    "\n",
    "ew_ccd_corners = 0.5 * plate_scale * np.asarray([ew_npix, 0, 0, ew_npix])\n",
    "ns_ccd_corners = 0.5 * plate_scale * np.asarray([ns_npix, ns_npix, 0, 0])\n",
    "\n",
    "ew_vertices = ew_offsets[:, np.newaxis] + ew_ccd_corners[np.newaxis, :]\n",
    "ns_vertices = ns_offsets[:, np.newaxis] + ns_ccd_corners[np.newaxis, :]\n",
    "\n",
    "def get_footprint(center):\n",
    "    return SkyCoord(\n",
    "        ew_vertices, ns_vertices,\n",
    "        frame=center[..., np.newaxis, np.newaxis].skyoffset_frame()\n",
    "    ).icrs\n",
    "\n",
    "url = 'https://github.com/ZwickyTransientFacility/ztf_information/raw/master/field_grid/ZTF_Fields.txt'\n",
    "filename = download_file(url)\n",
    "field_grid = QTable(np.recfromtxt(filename, comments='%', usecols=range(3), names=['field_id', 'ra', 'dec']))\n",
    "field_grid['coord'] = SkyCoord(field_grid.columns.pop('ra') * u.deg, field_grid.columns.pop('dec') * u.deg)\n",
    "field_grid = field_grid[0:881]   #working only with primary fields"
   ]
  },
  {
   "cell_type": "code",
   "execution_count": 5,
   "metadata": {},
   "outputs": [],
   "source": [
    "#******************************************************************************\n",
    "skymap, metadata = read_sky_map(os.path.join(directory_path, filelist[8]))\n",
    "\n",
    "plot_filename = os.path.basename(filelist[8])\n",
    "#******************************************************************************"
   ]
  },
  {
   "cell_type": "code",
   "execution_count": 6,
   "metadata": {},
   "outputs": [
    {
     "name": "stdout",
     "output_type": "stream",
     "text": [
      "event time: 2019-09-23 12:55:59.647\n"
     ]
    },
    {
     "name": "stderr",
     "output_type": "stream",
     "text": [
      "/u/ywagh/.local/lib/python3.10/site-packages/astropy/units/quantity.py:671: RuntimeWarning: invalid value encountered in divide\n",
      "  result = super().__array_ufunc__(function, method, *arrays, **kwargs)\n"
     ]
    },
    {
     "data": {
      "application/vnd.jupyter.widget-view+json": {
       "model_id": "6ca1b7b973cc4c6d9f3cc8ac4db6405f",
       "version_major": 2,
       "version_minor": 0
      },
      "text/plain": [
       "  0%|          | 0/517 [00:00<?, ?it/s]"
      ]
     },
     "metadata": {},
     "output_type": "display_data"
    },
    {
     "name": "stdout",
     "output_type": "stream",
     "text": [
      "54  number of exposures could be taken tonight\n",
      "problem setup completed\n"
     ]
    }
   ],
   "source": [
    "event_time = Time(metadata['gps_time'], format='gps').utc\n",
    "event_time.format = 'iso'\n",
    "print('event time:',event_time)\n",
    "observer = astroplan.Observer.at_site('Palomar')\n",
    "night_horizon = -18 * u.deg\n",
    "if observer.is_night(event_time, horizon=night_horizon):\n",
    "    start_time = event_time\n",
    "else:\n",
    "    start_time = observer.sun_set_time(\n",
    "        event_time, horizon=night_horizon, which='next')\n",
    "\n",
    "# Find the latest possible end time of observations: the time of sunrise.\n",
    "end_time = observer.sun_rise_time(\n",
    "    start_time, horizon=night_horizon, which='next')\n",
    "\n",
    "min_airmass = 2.5 * u.dimensionless_unscaled\n",
    "airmass_horizon = (90 * u.deg - np.arccos(1 / min_airmass))\n",
    "targets = field_grid['coord']\n",
    "\n",
    "# Find the time that each field rises and sets above an airmass of 2.5.\n",
    "target_start_time = Time(np.where(\n",
    "    observer.target_is_up(start_time, targets, horizon=airmass_horizon),\n",
    "    start_time,\n",
    "    observer.target_rise_time(start_time, targets, which='next', horizon=airmass_horizon)))\n",
    "target_start_time.format = 'iso'\n",
    "\n",
    "# Find the time that each field sets below the airmass limit. If the target\n",
    "# is always up (i.e., it's circumpolar) or if it sets after surnsise,\n",
    "# then set the end time to sunrise.\n",
    "target_end_time = observer.target_set_time(\n",
    "    target_start_time, targets, which='next', horizon=airmass_horizon)\n",
    "target_end_time[\n",
    "    (target_end_time.mask & ~target_start_time.mask) | (target_end_time > end_time)\n",
    "] = end_time\n",
    "target_end_time.format = 'iso'\n",
    "# Select fields that are observable for long enough for at least one exposure\n",
    "##############################################################################\n",
    "exposure_time = 300 * u.second\n",
    "exposure_time_day = exposure_time.to_value(u.day)\n",
    "##############################################################################\n",
    "field_grid['start_time'] = target_start_time\n",
    "field_grid['end_time'] = target_end_time\n",
    "observable_fields = field_grid[target_end_time - target_start_time >= exposure_time]\n",
    "\n",
    "# print(observable_fields)\n",
    "hpx = HEALPix(nside=256, frame=ICRS())\n",
    "\n",
    "footprint = np.moveaxis(\n",
    "    get_footprint(SkyCoord(0 * u.deg, 0 * u.deg)).cartesian.xyz.value, 0, -1)\n",
    "footprint_healpix = np.unique(np.concatenate(\n",
    "    [hp.query_polygon(hpx.nside, v, nest=(hpx.order == 'nested')) for v in footprint]))\n",
    "\n",
    "'''\n",
    "# computing the footprints of every ZTF field as HEALPix indices. Downsampling skymap to same resolution.\n",
    "'''\n",
    "footprints = np.moveaxis(get_footprint(observable_fields['coord']).cartesian.xyz.value, 0, -1)\n",
    "footprints_healpix = [\n",
    "    np.unique(np.concatenate([hp.query_polygon(hpx.nside, v) for v in footprint]))\n",
    "    for footprint in tqdm(footprints)]\n",
    "\n",
    "prob = hp.ud_grade(skymap, hpx.nside, power=-2)\n",
    "\n",
    "# k = max number of 300s exposures \n",
    "min_start = min(observable_fields['start_time'])\n",
    "max_end =max(observable_fields['end_time'])\n",
    "min_start.format = 'jd'\n",
    "max_end.format = 'jd'\n",
    "k = int(np.floor((max_end - min_start)/(2*exposure_time.to(u.day))))\n",
    "print(k,\" number of exposures could be taken tonight\")\n",
    "\n",
    "print(\"problem setup completed\")"
   ]
  },
  {
   "cell_type": "markdown",
   "metadata": {},
   "source": [
    "## Model one"
   ]
  },
  {
   "cell_type": "code",
   "execution_count": 7,
   "metadata": {},
   "outputs": [
    {
     "name": "stdout",
     "output_type": "stream",
     "text": [
      "number fo fields observed should be less than k\n",
      "Version identifier: 22.1.1.0 | 2022-11-28 | 9160aff4d\n",
      "CPXPARAM_Read_DataCheck                          1\n",
      "Found incumbent of value 0.000000 after 0.05 sec. (24.20 ticks)\n",
      "Tried aggregator 3 times.\n",
      "MIP Presolve eliminated 785738 rows and 695831 columns.\n",
      "Aggregator did 153 substitutions.\n",
      "Reduced MIP has 542 rows, 692 columns, and 1979 nonzeros.\n",
      "Reduced MIP has 692 binaries, 0 generals, 0 SOSs, and 0 indicators.\n",
      "Presolve time = 0.65 sec. (720.33 ticks)\n",
      "Probing time = 0.00 sec. (0.14 ticks)\n",
      "Tried aggregator 1 time.\n",
      "Detecting symmetries...\n",
      "Reduced MIP has 542 rows, 692 columns, and 1979 nonzeros.\n",
      "Reduced MIP has 692 binaries, 0 generals, 0 SOSs, and 0 indicators.\n",
      "Presolve time = 0.00 sec. (1.40 ticks)\n",
      "Probing time = 0.00 sec. (0.14 ticks)\n",
      "MIP emphasis: balance optimality and feasibility.\n",
      "MIP search method: dynamic search.\n",
      "Parallel mode: deterministic, using up to 32 threads.\n",
      "Root relaxation solution time = 0.00 sec. (0.79 ticks)\n",
      "\n",
      "        Nodes                                         Cuts/\n",
      "   Node  Left     Objective  IInf  Best Integer    Best Bound    ItCnt     Gap\n",
      "\n",
      "*     0+    0                            0.0000        0.5056              --- \n",
      "*     0     0      integral     0        0.5034        0.5034      224    0.00%\n",
      "Elapsed time = 0.82 sec. (871.76 ticks, tree = 0.00 MB, solutions = 2)\n",
      "\n",
      "Root node processing (before b&c):\n",
      "  Real time             =    0.84 sec. (899.53 ticks)\n",
      "Parallel b&c, 32 threads:\n",
      "  Real time             =    0.00 sec. (0.00 ticks)\n",
      "  Sync time (average)   =    0.00 sec.\n",
      "  Wait time (average)   =    0.00 sec.\n",
      "                          ------------\n",
      "Total (root+branch&cut) =    0.84 sec. (899.53 ticks)\n",
      "optimization completed\n",
      "Total probability covered: 0.5033505935113157\n"
     ]
    }
   ],
   "source": [
    "m1 = Model('max coverage problem')\n",
    "\n",
    "field_vars = m1.binary_var_list(len(footprints), name='field')\n",
    "pixel_vars = m1.binary_var_list(hpx.npix, name='pixel')\n",
    "\n",
    "footprints_healpix_inverse = [[] for _ in range(hpx.npix)]\n",
    "\n",
    "for field, pixels in enumerate(footprints_healpix):\n",
    "    for pixel in pixels:\n",
    "        footprints_healpix_inverse[pixel].append(field)\n",
    "\n",
    "for i_pixel, i_fields in enumerate(footprints_healpix_inverse):\n",
    "     m1.add_constraint(m1.sum(field_vars[i] for i in i_fields) >= pixel_vars[i_pixel])\n",
    "\n",
    "m1.add_constraint(m1.sum(field_vars) <= k)\n",
    "m1.maximize(m1.dot(pixel_vars, prob))\n",
    "print(\"number fo fields observed should be less than k\")\n",
    "\n",
    "solution = m1.solve(log_output=True)\n",
    "\n",
    "print(\"optimization completed\")\n",
    "total_prob_covered = solution.objective_value\n",
    "\n",
    "print(\"Total probability covered:\",total_prob_covered)\n"
   ]
  },
  {
   "cell_type": "code",
   "execution_count": 8,
   "metadata": {},
   "outputs": [
    {
     "data": {
      "text/html": [
       "<div><i>QTable length=54</i>\n",
       "<table id=\"table139680288386176\" class=\"table-striped table-bordered table-condensed\">\n",
       "<thead><tr><th>field_id</th><th>coord</th><th>start_time</th><th>end_time</th></tr></thead>\n",
       "<thead><tr><th></th><th>deg,deg</th><th></th><th></th></tr></thead>\n",
       "<thead><tr><th>int64</th><th>SkyCoord</th><th>Time</th><th>Time</th></tr></thead>\n",
       "<tr><td>208</td><td>70.36589,-31.45</td><td>2019-09-24 11:15:21.492</td><td>2019-09-24 12:13:59.837</td></tr>\n",
       "<tr><td>209</td><td>78.11468,-31.45</td><td>2019-09-24 11:46:25.714</td><td>2019-09-24 12:13:59.837</td></tr>\n",
       "<tr><td>254</td><td>67.69804,-24.25</td><td>2019-09-24 09:48:05.498</td><td>2019-09-24 12:13:59.837</td></tr>\n",
       "<tr><td>255</td><td>75.09111,-24.25</td><td>2019-09-24 10:17:39.691</td><td>2019-09-24 12:13:59.837</td></tr>\n",
       "<tr><td>256</td><td>82.48418,-24.25</td><td>2019-09-24 10:47:14.169</td><td>2019-09-24 12:13:59.837</td></tr>\n",
       "<tr><td>304</td><td>72.44639,-17.05</td><td>2019-09-24 09:24:52.296</td><td>2019-09-24 12:13:59.837</td></tr>\n",
       "<tr><td>305</td><td>79.52832,-17.05</td><td>2019-09-24 09:53:10.348</td><td>2019-09-24 12:13:59.837</td></tr>\n",
       "<tr><td>306</td><td>86.61025,-17.05</td><td>2019-09-24 10:21:28.515</td><td>2019-09-24 12:13:59.837</td></tr>\n",
       "<tr><td>329</td><td>248.49557,-17.05</td><td>2019-09-24 03:05:38.107</td><td>2019-09-24 03:13:02.736</td></tr>\n",
       "<tr><td>...</td><td>...</td><td>...</td><td>...</td></tr>\n",
       "<tr><td>710</td><td>140.54911,40.55</td><td>2019-09-24 11:14:25.336</td><td>2019-09-24 12:13:59.837</td></tr>\n",
       "<tr><td>711</td><td>149.16593,40.55</td><td>2019-09-24 11:48:46.508</td><td>2019-09-24 12:13:59.837</td></tr>\n",
       "<tr><td>748</td><td>119.55231,47.75</td><td>2019-09-24 09:32:37.435</td><td>2019-09-24 12:13:59.837</td></tr>\n",
       "<tr><td>749</td><td>128.977,47.75</td><td>2019-09-24 10:10:12.471</td><td>2019-09-24 12:13:59.837</td></tr>\n",
       "<tr><td>750</td><td>138.40169,47.75</td><td>2019-09-24 10:47:46.430</td><td>2019-09-24 12:13:59.837</td></tr>\n",
       "<tr><td>751</td><td>147.82638,47.75</td><td>2019-09-24 11:25:19.649</td><td>2019-09-24 12:13:59.837</td></tr>\n",
       "<tr><td>752</td><td>157.25108,47.75</td><td>2019-09-24 12:02:52.195</td><td>2019-09-24 12:13:59.837</td></tr>\n",
       "<tr><td>786</td><td>147.60097,54.95</td><td>2019-09-24 11:03:28.108</td><td>2019-09-24 12:13:59.837</td></tr>\n",
       "<tr><td>787</td><td>158.52573,54.95</td><td>2019-09-24 11:46:58.861</td><td>2019-09-24 12:13:59.837</td></tr>\n",
       "</table></div>"
      ],
      "text/plain": [
       "<QTable length=54>\n",
       "field_id      coord              start_time               end_time       \n",
       "             deg,deg                                                     \n",
       " int64       SkyCoord               Time                    Time         \n",
       "-------- ---------------- ----------------------- -----------------------\n",
       "     208  70.36589,-31.45 2019-09-24 11:15:21.492 2019-09-24 12:13:59.837\n",
       "     209  78.11468,-31.45 2019-09-24 11:46:25.714 2019-09-24 12:13:59.837\n",
       "     254  67.69804,-24.25 2019-09-24 09:48:05.498 2019-09-24 12:13:59.837\n",
       "     255  75.09111,-24.25 2019-09-24 10:17:39.691 2019-09-24 12:13:59.837\n",
       "     256  82.48418,-24.25 2019-09-24 10:47:14.169 2019-09-24 12:13:59.837\n",
       "     304  72.44639,-17.05 2019-09-24 09:24:52.296 2019-09-24 12:13:59.837\n",
       "     305  79.52832,-17.05 2019-09-24 09:53:10.348 2019-09-24 12:13:59.837\n",
       "     306  86.61025,-17.05 2019-09-24 10:21:28.515 2019-09-24 12:13:59.837\n",
       "     329 248.49557,-17.05 2019-09-24 03:05:38.107 2019-09-24 03:13:02.736\n",
       "     ...              ...                     ...                     ...\n",
       "     710  140.54911,40.55 2019-09-24 11:14:25.336 2019-09-24 12:13:59.837\n",
       "     711  149.16593,40.55 2019-09-24 11:48:46.508 2019-09-24 12:13:59.837\n",
       "     748  119.55231,47.75 2019-09-24 09:32:37.435 2019-09-24 12:13:59.837\n",
       "     749    128.977,47.75 2019-09-24 10:10:12.471 2019-09-24 12:13:59.837\n",
       "     750  138.40169,47.75 2019-09-24 10:47:46.430 2019-09-24 12:13:59.837\n",
       "     751  147.82638,47.75 2019-09-24 11:25:19.649 2019-09-24 12:13:59.837\n",
       "     752  157.25108,47.75 2019-09-24 12:02:52.195 2019-09-24 12:13:59.837\n",
       "     786  147.60097,54.95 2019-09-24 11:03:28.108 2019-09-24 12:13:59.837\n",
       "     787  158.52573,54.95 2019-09-24 11:46:58.861 2019-09-24 12:13:59.837"
      ]
     },
     "execution_count": 8,
     "metadata": {},
     "output_type": "execute_result"
    }
   ],
   "source": [
    "selected_fields_ID = [i for i, v in enumerate(field_vars) if v.solution_value == 1]\n",
    "# print(selected_fields_ID)\n",
    "selected_fields = observable_fields[selected_fields_ID]\n",
    "\n",
    "\n",
    "separation_matrix = selected_fields['coord'][:,np.newaxis].separation(selected_fields['coord'][np.newaxis,:])\n",
    "\n",
    "def slew_time(separation):\n",
    "   return np.where(\n",
    "       separation <= (slew_speed**2 / slew_accel), \n",
    "       np.sqrt(2 * separation / slew_accel), \n",
    "       (2 * slew_speed / slew_accel) + (separation - slew_speed**2 / slew_accel) / slew_speed\n",
    "       )\n",
    "\n",
    "slew_times = slew_time(separation_matrix).value\n",
    "\n",
    "slew_time_value = slew_times*u.second\n",
    "slew_time_day = slew_time_value.to_value(u.day)\n",
    "\n",
    "# slew_time_max = np.max(slew_times) * u.second\n",
    "# slew_time_max_ = slew_time_max.to_value(u.day) #test\n",
    "selected_fields"
   ]
  },
  {
   "cell_type": "markdown",
   "metadata": {},
   "source": [
    "## model two"
   ]
  },
  {
   "cell_type": "code",
   "execution_count": null,
   "metadata": {},
   "outputs": [],
   "source": [
    "m2 = Model(\"Telescope timings\")\n",
    "\n",
    "observer_location = EarthLocation.of_site('Palomar')\n",
    "\n",
    "footprints_selected = np.moveaxis(get_footprint(selected_fields['coord']).cartesian.xyz.value, 0, -1)\n",
    "footprints_healpix_selected = [\n",
    "    np.unique(np.concatenate([hp.query_polygon(hpx.nside, v) for v in footprint]))\n",
    "    for footprint in tqdm(footprints_selected)]\n",
    "\n",
    "probabilities = []\n",
    "\n",
    "for field_index in range(len(footprints_healpix_selected)):\n",
    "    probability_field = np.sum(prob[footprints_healpix_selected[field_index]])\n",
    "    probabilities.append(probability_field)\n",
    "print(\"worked for\",len(probabilities),\"fields\")\n",
    "\n",
    "selected_fields['probabilities'] = probabilities\n",
    "\n",
    "delta = exposure_time.to_value(u.day)\n",
    "M = (selected_fields['end_time'].max() - selected_fields['start_time'].min()).to_value(u.day).item()\n",
    "num_visits = 2\n",
    "num_filters = 2\n",
    "\n",
    "x = [m2.binary_var(name=f\"x_{i}\") for i in range(len(selected_fields))]\n",
    "\n",
    "s = [[m2.binary_var(name=f's_{i}_{j}') for j in range(i)] for i in range(len(selected_fields))]\n",
    "\n",
    "tc = [[m2.continuous_var(\n",
    "    lb =(row['start_time'] - start_time).to_value(u.day),\n",
    "    ub=(row['end_time'] - start_time - exposure_time).to_value(u.day),\n",
    "    name=f\"start_time_field_{i}_visit_{k}\")\n",
    "       for k in range(num_visits*num_filters)] for i,row in enumerate(selected_fields)]\n",
    "\n",
    "cadence_minutes = 30\n",
    "cadence_days = cadence_minutes / (60 * 24)\n",
    "\n",
    "for v in range(1, num_visits*num_filters):\n",
    "    for i in range(len(selected_fields)):\n",
    "        m2.add_constraint(tc[i][v]-tc[i][v-1] >= cadence_days * x[i], ctname = f\"cadence_constraint_feild_{i}_visits_{v}\")\n",
    "\n",
    "for v in range(num_visits*num_filters):\n",
    "    for i in range(len(selected_fields)):\n",
    "        for j in range(i):\n",
    "            m2.add_constraint(tc[i][v] + delta * x[i] +slew_time_day[i][j] - tc[j][v] <= M * (1 - s[i][j]),\n",
    "                              ctname = f\"non_overlapping1_fileds_{i}_{j}_visits_{v-1}_{v}\")\n",
    "            m2.add_constraint(tc[j][v] + delta * x[j] +slew_time_day[i][j] - tc[i][v] <= M * s[i][j],\n",
    "                              ctname = f\"non_overlapping2_fileds_{i}_{j}_visits_{v-1}_{v}\")\n",
    "\n",
    "m2.maximize(m2.sum([probabilities[i] * x[i] for i in range(len(selected_fields))]))\n",
    "\n",
    "m2.parameters.timelimit = 60\n",
    "solution = m2.solve(log_output=True)"
   ]
  },
  {
   "cell_type": "code",
   "execution_count": 9,
   "metadata": {},
   "outputs": [
    {
     "data": {
      "application/vnd.jupyter.widget-view+json": {
       "model_id": "73806a99bb01439fa40683031169277b",
       "version_major": 2,
       "version_minor": 0
      },
      "text/plain": [
       "  0%|          | 0/54 [00:00<?, ?it/s]"
      ]
     },
     "metadata": {},
     "output_type": "display_data"
    },
    {
     "name": "stdout",
     "output_type": "stream",
     "text": [
      "worked for 54 fields\n",
      "Version identifier: 22.1.1.0 | 2022-11-28 | 9160aff4d\n",
      "CPXPARAM_Read_DataCheck                          1\n",
      "CPXPARAM_TimeLimit                               60\n",
      "Infeasibility row 'y_active_only_if_x_8_0_visit_0_1':  0 <= -1.\n",
      "Presolve time = 0.01 sec. (7.09 ticks)\n",
      "\n",
      "Root node processing (before b&c):\n",
      "  Real time             =    0.01 sec. (10.25 ticks)\n",
      "Parallel b&c, 32 threads:\n",
      "  Real time             =    0.00 sec. (0.00 ticks)\n",
      "  Sync time (average)   =    0.00 sec.\n",
      "  Wait time (average)   =    0.00 sec.\n",
      "                          ------------\n",
      "Total (root+branch&cut) =    0.01 sec. (10.25 ticks)\n"
     ]
    }
   ],
   "source": [
    "m2 = Model(\"Telescope timings\")\n",
    "\n",
    "observer_location = EarthLocation.of_site('Palomar')\n",
    "\n",
    "footprints_selected = np.moveaxis(get_footprint(selected_fields['coord']).cartesian.xyz.value, 0, -1)\n",
    "footprints_healpix_selected = [\n",
    "    np.unique(np.concatenate([hp.query_polygon(hpx.nside, v) for v in footprint]))\n",
    "    for footprint in tqdm(footprints_selected)]\n",
    "\n",
    "probabilities = []\n",
    "\n",
    "for field_index in range(len(footprints_healpix_selected)):\n",
    "    probability_field = np.sum(prob[footprints_healpix_selected[field_index]])\n",
    "    probabilities.append(probability_field)\n",
    "print(\"worked for\",len(probabilities),\"fields\")\n",
    "\n",
    "selected_fields['probabilities'] = probabilities\n",
    "\n",
    "delta = exposure_time.to_value(u.day)\n",
    "M = (selected_fields['end_time'].max() - selected_fields['start_time'].min()).to_value(u.day).item()\n",
    "num_visits = 2\n",
    "num_filters = 2\n",
    "\n",
    "x = [m2.binary_var(name=f\"x_{i}\") for i in range(len(selected_fields))]\n",
    "\n",
    "# Introduce a new binary variable y[i][v][j] for overlap between fields i and j during visit v\n",
    "y = [[[m2.binary_var(name=f\"y_{i}_{v}_{j}\") for j in range(len(selected_fields))]\n",
    "      for v in range(num_visits * num_filters)]\n",
    "      for i in range(len(selected_fields))]\n",
    "tc = [[m2.continuous_var(\n",
    "    lb =(row['start_time'] - start_time).to_value(u.day),\n",
    "    ub=(row['end_time'] - start_time - exposure_time).to_value(u.day),\n",
    "    name=f\"start_time_field_{i}_visit_{k}\")\n",
    "       for k in range(num_visits*num_filters)] for i,row in enumerate(selected_fields)]\n",
    "\n",
    "cadence_minutes = 30\n",
    "cadence_days = cadence_minutes / (60 * 24)\n",
    "# Add overlap constraints for each visit and pair of fields\n",
    "for v in range(num_visits * num_filters):  # Iterate over visits\n",
    "    for i in range(len(selected_fields)):\n",
    "        for j in range(i):  # Pairwise comparison of fields\n",
    "            # Ensure no overlap if y[i][v][j] = 0\n",
    "            m2.add_constraint(\n",
    "                tc[i][v] + delta * x[i] + slew_time_day[i][j] <= tc[j][v] + M * (1 - y[i][v][j]),\n",
    "                ctname=f\"no_overlap_visit_{v}_fields_{i}_{j}_1\"\n",
    "            )\n",
    "            m2.add_constraint(\n",
    "                tc[j][v] + delta * x[j] + slew_time_day[j][i] <= tc[i][v] + M * y[i][v][j],\n",
    "                ctname=f\"no_overlap_visit_{v}_fields_{i}_{j}_2\"\n",
    "            )\n",
    "\n",
    "            # Ensure y[i][v][j] is only active if both fields are observed\n",
    "            m2.add_constraint(\n",
    "                y[i][v][j] <= x[i], ctname=f\"y_active_only_if_x_{i}_{j}_visit_{v}_1\"\n",
    "            )\n",
    "            m2.add_constraint(\n",
    "                y[i][v][j] <= x[j], ctname=f\"y_active_only_if_x_{i}_{j}_visit_{v}_2\"\n",
    "            )\n",
    "\n",
    "\n",
    "\n",
    "for v in range(1, num_visits*num_filters):\n",
    "    for i in range(len(selected_fields)):\n",
    "        m2.add_constraint(tc[i][v]-tc[i][v-1] >= cadence_days * x[i], ctname = f\"cadence_constraint_feild_{i}_visits_{v}\")\n",
    "m2.maximize(m2.sum([probabilities[i] * x[i] for i in range(len(selected_fields))]))\n",
    "\n",
    "m2.parameters.timelimit = 60\n",
    "solution = m2.solve(log_output=True)"
   ]
  },
  {
   "cell_type": "code",
   "execution_count": 10,
   "metadata": {},
   "outputs": [],
   "source": [
    "# scheduled_fields_ID = [i for i, v in enumerate(x) if v.solution_value == 1]\n",
    "# scheduled_fields_ID"
   ]
  },
  {
   "cell_type": "code",
   "execution_count": 11,
   "metadata": {},
   "outputs": [
    {
     "ename": "DOcplexException",
     "evalue": "Model<Telescope timings> did not solve successfully",
     "output_type": "error",
     "traceback": [
      "\u001b[0;31m---------------------------------------------------------------------------\u001b[0m",
      "\u001b[0;31mDOcplexException\u001b[0m                          Traceback (most recent call last)",
      "Cell \u001b[0;32mIn[11], line 2\u001b[0m\n\u001b[1;32m      1\u001b[0m \u001b[38;5;66;03m# Get the indices of scheduled fields\u001b[39;00m\n\u001b[0;32m----> 2\u001b[0m scheduled_fields_ID \u001b[38;5;241m=\u001b[39m [i \u001b[38;5;28;01mfor\u001b[39;00m i, v \u001b[38;5;129;01min\u001b[39;00m \u001b[38;5;28menumerate\u001b[39m(x) \u001b[38;5;28;01mif\u001b[39;00m v\u001b[38;5;241m.\u001b[39msolution_value \u001b[38;5;241m==\u001b[39m \u001b[38;5;241m1\u001b[39m]\n\u001b[1;32m      3\u001b[0m scheduled_fields \u001b[38;5;241m=\u001b[39m selected_fields[scheduled_fields_ID]\n\u001b[1;32m      4\u001b[0m \u001b[38;5;66;03m# scheduled_fields\u001b[39;00m\n",
      "Cell \u001b[0;32mIn[11], line 2\u001b[0m, in \u001b[0;36m<listcomp>\u001b[0;34m(.0)\u001b[0m\n\u001b[1;32m      1\u001b[0m \u001b[38;5;66;03m# Get the indices of scheduled fields\u001b[39;00m\n\u001b[0;32m----> 2\u001b[0m scheduled_fields_ID \u001b[38;5;241m=\u001b[39m [i \u001b[38;5;28;01mfor\u001b[39;00m i, v \u001b[38;5;129;01min\u001b[39;00m \u001b[38;5;28menumerate\u001b[39m(x) \u001b[38;5;28;01mif\u001b[39;00m \u001b[43mv\u001b[49m\u001b[38;5;241;43m.\u001b[39;49m\u001b[43msolution_value\u001b[49m \u001b[38;5;241m==\u001b[39m \u001b[38;5;241m1\u001b[39m]\n\u001b[1;32m      3\u001b[0m scheduled_fields \u001b[38;5;241m=\u001b[39m selected_fields[scheduled_fields_ID]\n\u001b[1;32m      4\u001b[0m \u001b[38;5;66;03m# scheduled_fields\u001b[39;00m\n",
      "File \u001b[0;32m~/.conda/envs/MILP_3/lib/python3.10/site-packages/docplex/mp/dvar.py:230\u001b[0m, in \u001b[0;36mVar.solution_value\u001b[0;34m(self)\u001b[0m\n\u001b[1;32m    221\u001b[0m \u001b[38;5;129m@property\u001b[39m\n\u001b[1;32m    222\u001b[0m \u001b[38;5;28;01mdef\u001b[39;00m \u001b[38;5;21msolution_value\u001b[39m(\u001b[38;5;28mself\u001b[39m):\n\u001b[1;32m    223\u001b[0m \u001b[38;5;250m    \u001b[39m\u001b[38;5;124;03m\"\"\" This property returns the solution value of the variable.\u001b[39;00m\n\u001b[1;32m    224\u001b[0m \n\u001b[1;32m    225\u001b[0m \u001b[38;5;124;03m    Raises:\u001b[39;00m\n\u001b[0;32m   (...)\u001b[0m\n\u001b[1;32m    228\u001b[0m \n\u001b[1;32m    229\u001b[0m \u001b[38;5;124;03m    \"\"\"\u001b[39;00m\n\u001b[0;32m--> 230\u001b[0m     \u001b[38;5;28;43mself\u001b[39;49m\u001b[38;5;241;43m.\u001b[39;49m\u001b[43mmodel\u001b[49m\u001b[38;5;241;43m.\u001b[39;49m\u001b[43m_check_has_solution\u001b[49m\u001b[43m(\u001b[49m\u001b[43m)\u001b[49m\n\u001b[1;32m    231\u001b[0m     \u001b[38;5;28;01mreturn\u001b[39;00m \u001b[38;5;28mself\u001b[39m\u001b[38;5;241m.\u001b[39m_raw_solution_value()\n",
      "File \u001b[0;32m~/.conda/envs/MILP_3/lib/python3.10/site-packages/docplex/mp/model.py:5261\u001b[0m, in \u001b[0;36mModel._check_has_solution\u001b[0;34m(self)\u001b[0m\n\u001b[1;32m   5259\u001b[0m     \u001b[38;5;28mself\u001b[39m\u001b[38;5;241m.\u001b[39mfatal(\u001b[38;5;124m\"\u001b[39m\u001b[38;5;124mModel<\u001b[39m\u001b[38;5;132;01m{0}\u001b[39;00m\u001b[38;5;124m> has not been solved yet\u001b[39m\u001b[38;5;124m\"\u001b[39m, \u001b[38;5;28mself\u001b[39m\u001b[38;5;241m.\u001b[39mname)\n\u001b[1;32m   5260\u001b[0m \u001b[38;5;28;01melse\u001b[39;00m:\n\u001b[0;32m-> 5261\u001b[0m     \u001b[38;5;28;43mself\u001b[39;49m\u001b[38;5;241;43m.\u001b[39;49m\u001b[43mfatal\u001b[49m\u001b[43m(\u001b[49m\u001b[38;5;124;43m\"\u001b[39;49m\u001b[38;5;124;43mModel<\u001b[39;49m\u001b[38;5;132;43;01m{0}\u001b[39;49;00m\u001b[38;5;124;43m> did not solve successfully\u001b[39;49m\u001b[38;5;124;43m\"\u001b[39;49m\u001b[43m,\u001b[49m\u001b[43m \u001b[49m\u001b[38;5;28;43mself\u001b[39;49m\u001b[38;5;241;43m.\u001b[39;49m\u001b[43mname\u001b[49m\u001b[43m)\u001b[49m\n",
      "File \u001b[0;32m~/.conda/envs/MILP_3/lib/python3.10/site-packages/docplex/mp/model.py:1093\u001b[0m, in \u001b[0;36mModel.fatal\u001b[0;34m(self, msg, *args)\u001b[0m\n\u001b[1;32m   1092\u001b[0m \u001b[38;5;28;01mdef\u001b[39;00m \u001b[38;5;21mfatal\u001b[39m(\u001b[38;5;28mself\u001b[39m, msg, \u001b[38;5;241m*\u001b[39margs):\n\u001b[0;32m-> 1093\u001b[0m     \u001b[38;5;28;43mself\u001b[39;49m\u001b[38;5;241;43m.\u001b[39;49m\u001b[43m_error_handler\u001b[49m\u001b[38;5;241;43m.\u001b[39;49m\u001b[43mfatal\u001b[49m\u001b[43m(\u001b[49m\u001b[43mmsg\u001b[49m\u001b[43m,\u001b[49m\u001b[43m \u001b[49m\u001b[43margs\u001b[49m\u001b[43m)\u001b[49m\n",
      "File \u001b[0;32m~/.conda/envs/MILP_3/lib/python3.10/site-packages/docplex/mp/error_handler.py:210\u001b[0m, in \u001b[0;36mAbstractErrorHandler.fatal\u001b[0;34m(self, msg, args)\u001b[0m\n\u001b[1;32m    208\u001b[0m resolved_message \u001b[38;5;241m=\u001b[39m resolve_pattern(msg, args)\n\u001b[1;32m    209\u001b[0m docplex_error_stop_here()\n\u001b[0;32m--> 210\u001b[0m \u001b[38;5;28;01mraise\u001b[39;00m DOcplexException(resolved_message)\n",
      "\u001b[0;31mDOcplexException\u001b[0m: Model<Telescope timings> did not solve successfully"
     ]
    }
   ],
   "source": [
    "# Get the indices of scheduled fields\n",
    "scheduled_fields_ID = [i for i, v in enumerate(x) if v.solution_value == 1]\n",
    "scheduled_fields = selected_fields[scheduled_fields_ID]\n",
    "# scheduled_fields\n",
    "scheduled_tc = [[solution.get_value(tc[i][v]) for v in range(num_visits * num_filters)] for i in scheduled_fields_ID]\n",
    "scheduled_tc = np.asarray(scheduled_tc)"
   ]
  },
  {
   "cell_type": "code",
   "execution_count": null,
   "metadata": {},
   "outputs": [],
   "source": [
    "# scheduled_tc\n",
    "for i in range(num_visits*num_filters):\n",
    "    scheduled_fields[f\"Scheduled_start_filt_times_{i}\"] = scheduled_tc[:,i]\n"
   ]
  },
  {
   "cell_type": "code",
   "execution_count": null,
   "metadata": {},
   "outputs": [],
   "source": [
    "scheduled_fields"
   ]
  },
  {
   "cell_type": "code",
   "execution_count": null,
   "metadata": {},
   "outputs": [],
   "source": [
    "# scheduled_start_times = [solution.get_value(var) for var in tc]\n",
    "# scheduled_fields = QTable(selected_fields)\n",
    "scheduled_fields['Scheduled_start_filt_times_0'] = Time(scheduled_fields['Scheduled_start_filt_times_0'], format='mjd')\n",
    "scheduled_fields['Scheduled_start_filt_times_0'].format = 'iso'\n",
    "scheduled_fields['Scheduled_end_filt_times_0'] = scheduled_fields['Scheduled_start_filt_times_0'] + exposure_time_day\n",
    "# scheduled_fields = scheduled_fields[np.asarray([solution.get_value(var) for var in x], dtype=bool)]\n",
    "scheduled_fields.sort('Scheduled_end_filt_times_0')\n",
    "print(\"##################The Number of Fields Scheduled: \",len(scheduled_fields),\"#####################\")\n"
   ]
  },
  {
   "cell_type": "code",
   "execution_count": null,
   "metadata": {},
   "outputs": [],
   "source": [
    "fig, ax = plt.subplots()\n",
    "ax.hlines(\n",
    "    np.arange(len(scheduled_fields)), \n",
    "    scheduled_fields['Scheduled_start_filt_times_0'].mjd, \n",
    "    scheduled_fields['Scheduled_end_filt_times_0'].mjd, \n",
    "    colors='blue', linewidth=2\n",
    ")\n",
    "for i in range(len(scheduled_fields)):\n",
    "    ax.vlines(\n",
    "        scheduled_fields['Scheduled_start_filt_times_0'][i].mjd, \n",
    "        ymin=i - 2, ymax=i + 2, \n",
    "        color='black', linewidth=0.5, linestyle='-'  \n",
    "    )\n",
    "    ax.vlines(\n",
    "        scheduled_fields['Scheduled_end_filt_times_0'][i].mjd, \n",
    "        ymin=i - 2, ymax=i + 2, \n",
    "        color='black', linewidth=0.5, linestyle='-'  )\n",
    "ax.set_yticks(np.arange(len(scheduled_fields)), scheduled_fields['field_id'].astype(str))\n",
    "ax.set_yticklabels(scheduled_fields['field_id'].astype(str))\n",
    "ax.set_xlabel('Observation time (MJD)')\n",
    "ax.set_ylabel('Field ID')\n"
   ]
  },
  {
   "cell_type": "code",
   "execution_count": null,
   "metadata": {},
   "outputs": [],
   "source": [
    "scheduled_fields"
   ]
  },
  {
   "cell_type": "code",
   "execution_count": null,
   "metadata": {},
   "outputs": [],
   "source": []
  },
  {
   "cell_type": "code",
   "execution_count": null,
   "metadata": {},
   "outputs": [],
   "source": []
  },
  {
   "cell_type": "code",
   "execution_count": null,
   "metadata": {},
   "outputs": [],
   "source": []
  },
  {
   "cell_type": "code",
   "execution_count": null,
   "metadata": {},
   "outputs": [],
   "source": []
  },
  {
   "cell_type": "code",
   "execution_count": null,
   "metadata": {},
   "outputs": [],
   "source": []
  },
  {
   "cell_type": "code",
   "execution_count": null,
   "metadata": {},
   "outputs": [],
   "source": []
  },
  {
   "cell_type": "code",
   "execution_count": null,
   "metadata": {},
   "outputs": [],
   "source": []
  },
  {
   "cell_type": "code",
   "execution_count": null,
   "metadata": {},
   "outputs": [],
   "source": []
  }
 ],
 "metadata": {
  "kernelspec": {
   "display_name": "MILP_3",
   "language": "python",
   "name": "python3"
  },
  "language_info": {
   "codemirror_mode": {
    "name": "ipython",
    "version": 3
   },
   "file_extension": ".py",
   "mimetype": "text/x-python",
   "name": "python",
   "nbconvert_exporter": "python",
   "pygments_lexer": "ipython3",
   "version": "3.10.8"
  }
 },
 "nbformat": 4,
 "nbformat_minor": 2
}
