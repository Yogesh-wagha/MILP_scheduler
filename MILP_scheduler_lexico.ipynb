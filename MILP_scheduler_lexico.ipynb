{
 "cells": [
  {
   "cell_type": "code",
   "execution_count": 1,
   "metadata": {},
   "outputs": [
    {
     "name": "stderr",
     "output_type": "stream",
     "text": [
      "/u/ywagh/.local/lib/python3.10/site-packages/ligo/lw/lsctables.py:89: UserWarning: Wswiglal-redir-stdio:\n",
      "\n",
      "SWIGLAL standard output/error redirection is enabled in IPython.\n",
      "This may lead to performance penalties. To disable locally, use:\n",
      "\n",
      "with lal.no_swig_redirect_standard_output_error():\n",
      "    ...\n",
      "\n",
      "To disable globally, use:\n",
      "\n",
      "lal.swig_redirect_standard_output_error(False)\n",
      "\n",
      "Note however that this will likely lead to error messages from\n",
      "LAL functions being either misdirected or lost when called from\n",
      "Jupyter notebooks.\n",
      "\n",
      "To suppress this warning, use:\n",
      "\n",
      "import warnings\n",
      "warnings.filterwarnings(\"ignore\", \"Wswiglal-redir-stdio\")\n",
      "import lal\n",
      "\n",
      "  import lal\n"
     ]
    }
   ],
   "source": [
    "import astroplan\n",
    "from astropy.coordinates import ICRS, SkyCoord, AltAz, get_moon, EarthLocation, get_body\n",
    "from astropy import units as u\n",
    "from astropy.utils.data import download_file\n",
    "from astropy.table import Table, QTable, join\n",
    "from astropy.time import Time, TimeDelta\n",
    "from astropy_healpix import *\n",
    "from ligo.skymap import plot\n",
    "from ligo.skymap.io import read_sky_map\n",
    "import healpy as hp\n",
    "import os\n",
    "from matplotlib import pyplot as plt\n",
    "import numpy as np\n",
    "from tqdm.auto import tqdm\n",
    "import datetime as dt\n",
    "import pickle\n",
    "import pandas as pd\n",
    "from docplex.mp.model import Model\n",
    "\n",
    "import warnings\n",
    "warnings.filterwarnings(\"ignore\", \"Wswiglal-redir-stdio\")\n",
    "warnings.simplefilter('ignore', astroplan.TargetNeverUpWarning)\n",
    "warnings.simplefilter('ignore', astroplan.TargetAlwaysUpWarning)"
   ]
  },
  {
   "cell_type": "code",
   "execution_count": 2,
   "metadata": {},
   "outputs": [],
   "source": [
    "directory_path = \"/u/ywagh/test_skymaps/\"\n",
    "filelist = sorted([f for f in os.listdir(directory_path) if f.endswith('.gz')])"
   ]
  },
  {
   "cell_type": "code",
   "execution_count": 3,
   "metadata": {},
   "outputs": [],
   "source": [
    "slew_speed = 2.5 * u.deg / u.s\n",
    "slew_accel = 0.4 * u.deg / u.s**2\n",
    "readout = 8.2 * u.s"
   ]
  },
  {
   "cell_type": "code",
   "execution_count": 4,
   "metadata": {},
   "outputs": [],
   "source": [
    "ns_nchips = 4\n",
    "ew_nchips = 4\n",
    "ns_npix = 6144\n",
    "ew_npix = 6160\n",
    "plate_scale = 1.01 * u.arcsec\n",
    "ns_chip_gap = 0.205 * u.deg\n",
    "ew_chip_gap = 0.140 * u.deg\n",
    "\n",
    "ns_total = ns_nchips * ns_npix * plate_scale + (ns_nchips - 1) * ns_chip_gap\n",
    "ew_total = ew_nchips * ew_npix * plate_scale + (ew_nchips - 1) * ew_chip_gap\n",
    "\n",
    "rcid = np.arange(64)\n",
    "\n",
    "chipid, rc_in_chip_id = np.divmod(rcid, 4)\n",
    "ns_chip_index, ew_chip_index = np.divmod(chipid, ew_nchips)\n",
    "ns_rc_in_chip_index = np.where(rc_in_chip_id <= 1, 1, 0)\n",
    "ew_rc_in_chip_index = np.where((rc_in_chip_id == 0) | (rc_in_chip_id == 3), 0, 1)\n",
    "\n",
    "ew_offsets = ew_chip_gap * (ew_chip_index - (ew_nchips - 1) / 2) + ew_npix * plate_scale * (ew_chip_index - ew_nchips / 2) + 0.5 * ew_rc_in_chip_index * plate_scale * ew_npix\n",
    "ns_offsets = ns_chip_gap * (ns_chip_index - (ns_nchips - 1) / 2) + ns_npix * plate_scale * (ns_chip_index - ns_nchips / 2) + 0.5 * ns_rc_in_chip_index * plate_scale * ns_npix\n",
    "\n",
    "ew_ccd_corners = 0.5 * plate_scale * np.asarray([ew_npix, 0, 0, ew_npix])\n",
    "ns_ccd_corners = 0.5 * plate_scale * np.asarray([ns_npix, ns_npix, 0, 0])\n",
    "\n",
    "ew_vertices = ew_offsets[:, np.newaxis] + ew_ccd_corners[np.newaxis, :]\n",
    "ns_vertices = ns_offsets[:, np.newaxis] + ns_ccd_corners[np.newaxis, :]\n",
    "\n",
    "def get_footprint(center):\n",
    "    return SkyCoord(\n",
    "        ew_vertices, ns_vertices,\n",
    "        frame=center[..., np.newaxis, np.newaxis].skyoffset_frame()\n",
    "    ).icrs\n",
    "\n",
    "url = 'https://github.com/ZwickyTransientFacility/ztf_information/raw/master/field_grid/ZTF_Fields.txt'\n",
    "filename = download_file(url)\n",
    "field_grid = QTable(np.recfromtxt(filename, comments='%', usecols=range(3), names=['field_id', 'ra', 'dec']))\n",
    "field_grid['coord'] = SkyCoord(field_grid.columns.pop('ra') * u.deg, field_grid.columns.pop('dec') * u.deg)\n",
    "field_grid = field_grid[0:881]   #working only with primary fields"
   ]
  },
  {
   "cell_type": "code",
   "execution_count": 33,
   "metadata": {},
   "outputs": [],
   "source": [
    "#******************************************************************************\n",
    "skymap, metadata = read_sky_map(os.path.join(directory_path, filelist[29]))\n",
    "\n",
    "plot_filename = os.path.basename(filelist[29])\n",
    "#******************************************************************************"
   ]
  },
  {
   "cell_type": "code",
   "execution_count": 34,
   "metadata": {},
   "outputs": [
    {
     "name": "stdout",
     "output_type": "stream",
     "text": [
      "event time: 2024-09-10 07:13:47.022\n"
     ]
    },
    {
     "name": "stderr",
     "output_type": "stream",
     "text": [
      "/u/ywagh/.local/lib/python3.10/site-packages/astropy/units/quantity.py:671: RuntimeWarning: invalid value encountered in divide\n",
      "  result = super().__array_ufunc__(function, method, *arrays, **kwargs)\n"
     ]
    },
    {
     "data": {
      "application/vnd.jupyter.widget-view+json": {
       "model_id": "2987b7ed482c4edaa3ca0bdca0fcca35",
       "version_major": 2,
       "version_minor": 0
      },
      "text/plain": [
       "  0%|          | 0/399 [00:00<?, ?it/s]"
      ]
     },
     "metadata": {},
     "output_type": "display_data"
    },
    {
     "name": "stdout",
     "output_type": "stream",
     "text": [
      "289  number of exposures could be taken tonight\n",
      "problem setup completed\n"
     ]
    }
   ],
   "source": [
    "event_time = Time(metadata['gps_time'], format='gps').utc\n",
    "event_time.format = 'iso'\n",
    "print('event time:',event_time)\n",
    "observer = astroplan.Observer.at_site('Palomar')\n",
    "night_horizon = -18 * u.deg\n",
    "if observer.is_night(event_time, horizon=night_horizon):\n",
    "    start_time = event_time\n",
    "else:\n",
    "    start_time = observer.sun_set_time(\n",
    "        event_time, horizon=night_horizon, which='next')\n",
    "\n",
    "# Find the latest possible end time of observations: the time of sunrise.\n",
    "end_time = observer.sun_rise_time(\n",
    "    start_time, horizon=night_horizon, which='next')\n",
    "\n",
    "min_airmass = 2.5 * u.dimensionless_unscaled\n",
    "airmass_horizon = (90 * u.deg - np.arccos(1 / min_airmass))\n",
    "targets = field_grid['coord']\n",
    "\n",
    "# Find the time that each field rises and sets above an airmass of 2.5.\n",
    "target_start_time = Time(np.where(\n",
    "    observer.target_is_up(start_time, targets, horizon=airmass_horizon),\n",
    "    start_time,\n",
    "    observer.target_rise_time(start_time, targets, which='next', horizon=airmass_horizon)))\n",
    "target_start_time.format = 'iso'\n",
    "\n",
    "# Find the time that each field sets below the airmass limit. If the target\n",
    "# is always up (i.e., it's circumpolar) or if it sets after surnsise,\n",
    "# then set the end time to sunrise.\n",
    "target_end_time = observer.target_set_time(\n",
    "    target_start_time, targets, which='next', horizon=airmass_horizon)\n",
    "target_end_time[\n",
    "    (target_end_time.mask & ~target_start_time.mask) | (target_end_time > end_time)\n",
    "] = end_time\n",
    "target_end_time.format = 'iso'\n",
    "# Select fields that are observable for long enough for at least one exposure\n",
    "##############################################################################\n",
    "exposure_time = 30 * u.second\n",
    "exposure_time_day = exposure_time.to_value(u.day)\n",
    "\n",
    "cadence = 30         #minutes\n",
    "cadence_days = cadence / (60 * 24)\n",
    "##############################################################################\n",
    "field_grid['start_time'] = target_start_time\n",
    "field_grid['end_time'] = target_end_time\n",
    "observable_fields = field_grid[target_end_time - target_start_time >= exposure_time]\n",
    "\n",
    "# print(observable_fields)\n",
    "hpx = HEALPix(nside=256, frame=ICRS())\n",
    "\n",
    "footprint = np.moveaxis(\n",
    "    get_footprint(SkyCoord(0 * u.deg, 0 * u.deg)).cartesian.xyz.value, 0, -1)\n",
    "footprint_healpix = np.unique(np.concatenate(\n",
    "    [hp.query_polygon(hpx.nside, v, nest=(hpx.order == 'nested')) for v in footprint]))\n",
    "\n",
    "'''\n",
    "# computing the footprints of every ZTF field as HEALPix indices. Downsampling skymap to same resolution.\n",
    "'''\n",
    "footprints = np.moveaxis(get_footprint(observable_fields['coord']).cartesian.xyz.value, 0, -1)\n",
    "footprints_healpix = [\n",
    "    np.unique(np.concatenate([hp.query_polygon(hpx.nside, v) for v in footprint]))\n",
    "    for footprint in tqdm(footprints)]\n",
    "\n",
    "prob = hp.ud_grade(skymap, hpx.nside, power=-2)\n",
    "\n",
    "# k = max number of 300s exposures \n",
    "min_start = min(observable_fields['start_time'])\n",
    "max_end =max(observable_fields['end_time'])\n",
    "min_start.format = 'jd'\n",
    "max_end.format = 'jd'\n",
    "k = int(np.floor((max_end - min_start)/(2*exposure_time.to(u.day))))\n",
    "print(k,\" number of exposures could be taken tonight\")\n",
    "\n",
    "print(\"problem setup completed\")"
   ]
  },
  {
   "cell_type": "markdown",
   "metadata": {},
   "source": [
    "## Model one"
   ]
  },
  {
   "cell_type": "code",
   "execution_count": 35,
   "metadata": {},
   "outputs": [
    {
     "name": "stdout",
     "output_type": "stream",
     "text": [
      "number fo fields observed should be less than 289\n",
      "Version identifier: 22.1.1.0 | 2022-11-28 | 9160aff4d\n",
      "CPXPARAM_Read_DataCheck                          1\n",
      "Found incumbent of value 0.000000 after 0.03 sec. (24.20 ticks)\n",
      "Tried aggregator 3 times.\n",
      "MIP Presolve eliminated 784702 rows and 576277 columns.\n",
      "Aggregator did 323 substitutions.\n",
      "Reduced MIP has 1408 rows, 1730 columns, and 5274 nonzeros.\n",
      "Reduced MIP has 1730 binaries, 0 generals, 0 SOSs, and 0 indicators.\n",
      "Presolve time = 0.60 sec. (734.43 ticks)\n",
      "Probing time = 0.00 sec. (0.36 ticks)\n",
      "Tried aggregator 1 time.\n",
      "Detecting symmetries...\n",
      "Reduced MIP has 1408 rows, 1730 columns, and 5274 nonzeros.\n",
      "Reduced MIP has 1730 binaries, 0 generals, 0 SOSs, and 0 indicators.\n",
      "Presolve time = 0.01 sec. (3.36 ticks)\n",
      "Probing time = 0.00 sec. (0.36 ticks)\n",
      "MIP emphasis: balance optimality and feasibility.\n",
      "MIP search method: dynamic search.\n",
      "Parallel mode: deterministic, using up to 32 threads.\n",
      "Root relaxation solution time = 0.01 sec. (2.57 ticks)\n",
      "\n",
      "        Nodes                                         Cuts/\n",
      "   Node  Left     Objective  IInf  Best Integer    Best Bound    ItCnt     Gap\n",
      "\n",
      "*     0+    0                            0.0000        0.3339              --- \n",
      "*     0     0      integral     0        0.3334        0.3334      830    0.00%\n",
      "Elapsed time = 0.75 sec. (895.93 ticks, tree = 0.00 MB, solutions = 2)\n",
      "\n",
      "Root node processing (before b&c):\n",
      "  Real time             =    0.77 sec. (923.71 ticks)\n",
      "Parallel b&c, 32 threads:\n",
      "  Real time             =    0.00 sec. (0.00 ticks)\n",
      "  Sync time (average)   =    0.00 sec.\n",
      "  Wait time (average)   =    0.00 sec.\n",
      "                          ------------\n",
      "Total (root+branch&cut) =    0.77 sec. (923.71 ticks)\n",
      "optimization completed\n",
      "Total probability covered: 0.3334388862915226\n"
     ]
    }
   ],
   "source": [
    "m1 = Model('max coverage problem')\n",
    "\n",
    "field_vars = m1.binary_var_list(len(footprints), name='field')\n",
    "pixel_vars = m1.binary_var_list(hpx.npix, name='pixel')\n",
    "\n",
    "footprints_healpix_inverse = [[] for _ in range(hpx.npix)]\n",
    "\n",
    "for field, pixels in enumerate(footprints_healpix):\n",
    "    for pixel in pixels:\n",
    "        footprints_healpix_inverse[pixel].append(field)\n",
    "\n",
    "for i_pixel, i_fields in enumerate(footprints_healpix_inverse):\n",
    "     m1.add_constraint(m1.sum(field_vars[i] for i in i_fields) >= pixel_vars[i_pixel])\n",
    "\n",
    "m1.add_constraint(m1.sum(field_vars) <= 100)\n",
    "m1.maximize(m1.dot(pixel_vars, prob))\n",
    "print(f\"number fo fields observed should be less than {k}\")\n",
    "\n",
    "solution = m1.solve(log_output=True)\n",
    "\n",
    "print(\"optimization completed\")\n",
    "total_prob_covered = solution.objective_value\n",
    "\n",
    "print(\"Total probability covered:\",total_prob_covered)\n"
   ]
  },
  {
   "cell_type": "code",
   "execution_count": 36,
   "metadata": {},
   "outputs": [
    {
     "name": "stdout",
     "output_type": "stream",
     "text": [
      "field_id      coord              start_time               end_time       \n",
      "             deg,deg                                                     \n",
      "-------- ---------------- ----------------------- -----------------------\n",
      "     241 329.63168,-31.45 2024-09-10 07:13:47.022 2024-09-10 07:31:56.508\n",
      "     289 324.19504,-24.25 2024-09-10 07:13:47.022 2024-09-10 08:25:53.062\n",
      "     290 331.58811,-24.25 2024-09-10 07:13:47.022 2024-09-10 08:55:25.236\n",
      "     291 338.98118,-24.25 2024-09-10 07:13:47.022 2024-09-10 09:24:56.510\n",
      "     340 326.21746,-17.05 2024-09-10 07:13:47.022 2024-09-10 09:16:01.065\n",
      "     341 333.29939,-17.05 2024-09-10 07:13:47.022 2024-09-10 09:44:17.558\n",
      "     342 340.38132,-17.05 2024-09-10 07:13:47.022 2024-09-10 10:12:33.517\n",
      "     343 347.46325,-17.05 2024-09-10 07:13:47.022 2024-09-10 10:40:48.930\n",
      "     391  329.95489,-9.85 2024-09-10 07:13:47.022 2024-09-10 10:01:43.647\n",
      "     ...              ...                     ...                     ...\n",
      "     776   38.72562,54.95 2024-09-10 07:13:47.022 2024-09-10 12:03:46.431\n",
      "     777   49.31587,54.95 2024-09-10 07:13:47.022 2024-09-10 12:03:46.431\n",
      "     778   60.11656,54.95 2024-09-10 07:13:47.022 2024-09-10 12:03:46.431\n",
      "     779   71.12768,54.95 2024-09-10 07:13:47.022 2024-09-10 12:03:46.431\n",
      "     780   82.05244,54.95 2024-09-10 07:34:18.530 2024-09-10 12:03:46.431\n",
      "     781   92.97719,54.95 2024-09-10 08:17:57.935 2024-09-10 12:03:46.431\n",
      "     808   33.33333,62.15 2024-09-10 07:13:47.022 2024-09-10 12:03:46.431\n",
      "     809   46.66667,62.15 2024-09-10 07:13:47.022 2024-09-10 12:03:46.431\n",
      "     810       60.0,62.15 2024-09-10 07:13:47.022 2024-09-10 12:03:46.431\n",
      "     811   73.33333,62.15 2024-09-10 07:13:47.022 2024-09-10 12:03:46.431\n",
      "Length = 100 rows\n"
     ]
    }
   ],
   "source": [
    "selected_fields_ID = [i for i, v in enumerate(field_vars) if v.solution_value == 1]\n",
    "# print(selected_fields_ID)\n",
    "selected_fields = observable_fields[selected_fields_ID]\n",
    "print(selected_fields)\n",
    "\n",
    "separation_matrix = selected_fields['coord'][:,np.newaxis].separation(selected_fields['coord'][np.newaxis,:])\n",
    "\n",
    "def slew_time(separation):\n",
    "   return np.where(\n",
    "       separation <= (slew_speed**2 / slew_accel), \n",
    "       np.sqrt(2 * separation / slew_accel), \n",
    "       (2 * slew_speed / slew_accel) + (separation - slew_speed**2 / slew_accel) / slew_speed\n",
    "       )\n",
    "\n",
    "slew_times = slew_time(separation_matrix).value\n",
    "\n",
    "slew_time_value = slew_times*u.second\n",
    "slew_time_day = slew_time_value.to_value(u.day)\n",
    "\n",
    "# slew_time_max = np.max(slew_times) * u.second\n",
    "# slew_time_max_ = slew_time_max.to_value(u.day) #test\n",
    "# selected_fields"
   ]
  },
  {
   "cell_type": "markdown",
   "metadata": {},
   "source": [
    "## model two"
   ]
  },
  {
   "cell_type": "code",
   "execution_count": 37,
   "metadata": {},
   "outputs": [
    {
     "data": {
      "application/vnd.jupyter.widget-view+json": {
       "model_id": "7d661c427cf44c3e84093fd3ea7328c5",
       "version_major": 2,
       "version_minor": 0
      },
      "text/plain": [
       "  0%|          | 0/100 [00:00<?, ?it/s]"
      ]
     },
     "metadata": {},
     "output_type": "display_data"
    },
    {
     "name": "stdout",
     "output_type": "stream",
     "text": [
      "worked for 100 fields\n",
      "Version identifier: 22.1.1.0 | 2022-11-28 | 9160aff4d\n",
      "CPXPARAM_Read_DataCheck                          1\n",
      "CPXPARAM_TimeLimit                               60\n",
      "Tried aggregator 1 time.\n",
      "MIP Presolve eliminated 4224 rows and 283 columns.\n",
      "MIP Presolve modified 104680 coefficients.\n",
      "Reduced MIP has 154476 rows, 5167 columns, and 593437 nonzeros.\n",
      "Reduced MIP has 4767 binaries, 0 generals, 0 SOSs, and 0 indicators.\n",
      "Presolve time = 0.27 sec. (299.54 ticks)\n",
      "Found incumbent of value 0.000000 after 0.59 sec. (560.72 ticks)\n",
      "Probing time = 0.11 sec. (22.69 ticks)\n",
      "Tried aggregator 1 time.\n",
      "Detecting symmetries...\n",
      "Reduced MIP has 154476 rows, 5167 columns, and 593437 nonzeros.\n",
      "Reduced MIP has 4767 binaries, 0 generals, 0 SOSs, and 0 indicators.\n",
      "Presolve time = 0.35 sec. (253.67 ticks)\n",
      "Probing time = 0.10 sec. (22.81 ticks)\n",
      "Clique table members: 16983.\n",
      "MIP emphasis: balance optimality and feasibility.\n",
      "MIP search method: dynamic search.\n",
      "Parallel mode: deterministic, using up to 32 threads.\n",
      "Root relaxation solution time = 4.18 sec. (2407.32 ticks)\n",
      "\n",
      "        Nodes                                         Cuts/\n",
      "   Node  Left     Objective  IInf  Best Integer    Best Bound    ItCnt     Gap\n",
      "\n",
      "*     0+    0                            0.0000       87.0000              --- \n",
      "      0     0       82.9808  2833        0.0000       82.9808     9141     --- \n",
      "      0     0       82.8899  2523        0.0000    Cuts: 8878    15065     --- \n",
      "\n",
      "Clique cuts applied:  358\n",
      "Implied bound cuts applied:  1\n",
      "Flow cuts applied:  528\n",
      "Mixed integer rounding cuts applied:  3825\n",
      "Gomory fractional cuts applied:  28\n",
      "\n",
      "Root node processing (before b&c):\n",
      "  Real time             =   60.05 sec. (62184.02 ticks)\n",
      "Parallel b&c, 32 threads:\n",
      "  Real time             =    0.00 sec. (0.00 ticks)\n",
      "  Sync time (average)   =    0.00 sec.\n",
      "  Wait time (average)   =    0.00 sec.\n",
      "                          ------------\n",
      "Total (root+branch&cut) =   60.05 sec. (62184.02 ticks)\n"
     ]
    }
   ],
   "source": [
    "m2 = Model(\"Telescope timings\")\n",
    "\n",
    "observer_location = EarthLocation.of_site('Palomar')\n",
    "\n",
    "footprints_selected = np.moveaxis(get_footprint(selected_fields['coord']).cartesian.xyz.value, 0, -1)\n",
    "footprints_healpix_selected = [\n",
    "    np.unique(np.concatenate([hp.query_polygon(hpx.nside, v) for v in footprint]))\n",
    "    for footprint in tqdm(footprints_selected)]\n",
    "\n",
    "probabilities = []\n",
    "\n",
    "for field_index in range(len(footprints_healpix_selected)):\n",
    "    probability_field = np.sum(prob[footprints_healpix_selected[field_index]])\n",
    "    probabilities.append(probability_field)\n",
    "print(\"worked for\",len(probabilities),\"fields\")\n",
    "\n",
    "selected_fields['probabilities'] = probabilities\n",
    "\n",
    "delta = exposure_time.to_value(u.day)\n",
    "M = (selected_fields['end_time'].max() - selected_fields['start_time'].min()).to_value(u.day).item()\n",
    "num_visits = 2\n",
    "num_filters = 2\n",
    "\n",
    "x = [m2.binary_var(name=f\"x_{i}\") for i in range(len(selected_fields))]\n",
    "\n",
    "s = [[m2.binary_var(name=f's_{i}_{j}') for j in range(i)] for i in range(len(selected_fields))]\n",
    "\n",
    "tc = [[m2.continuous_var(\n",
    "    lb =(row['start_time'] - start_time).to_value(u.day),\n",
    "    ub=(row['end_time'] - start_time - exposure_time).to_value(u.day),\n",
    "    name=f\"start_time_field_{i}_visit_{k}\")\n",
    "       for k in range(num_visits*num_filters)] for i,row in enumerate(selected_fields)]\n",
    "\n",
    "for v in range(1, num_visits*num_filters):\n",
    "    for i in range(len(selected_fields)):\n",
    "        m2.add_constraint(tc[i][v]-tc[i][v-1] >= cadence_days * x[i], ctname = f\"cadence_constraint_feild_{i}_visits_{v}\")\n",
    "\n",
    "# for v in range(num_visits*num_filters):\n",
    "#     for i in range(len(selected_fields)):\n",
    "#         for j in range(i):\n",
    "#             m2.add_constraint(tc[i][v] + delta * x[i] +slew_time_day[i][j] - tc[j][v] <= M * (1 - s[i][j]),\n",
    "#                               ctname = f\"non_overlapping1_fileds_{i}_{j}_visits_{v-1}_{v}\")\n",
    "#             m2.add_constraint(tc[j][v] + delta * x[j] +slew_time_day[i][j] - tc[i][v] <= M * s[i][j],\n",
    "#                               ctname = f\"non_overlapping2_fileds_{i}_{j}_visits_{v-1}_{v}\")\n",
    "\n",
    "for v1 in range(num_visits * num_filters):\n",
    "    for v2 in range(num_visits * num_filters):  # Compare with subsequent visits\n",
    "        for i in range(len(selected_fields)):\n",
    "            for j in range(i):\n",
    "                # Ensure no overlap between fields i and j across visits v1 and v2\n",
    "                m2.add_constraint(\n",
    "                    tc[i][v1] + delta * x[i] + slew_time_day[i][j] - tc[j][v2] <= M * (1 - s[i][j]),\n",
    "                    ctname=f\"non_overlapping_cross_fields_{i}_{j}_visits_{v1}_{v2}\"\n",
    "                )\n",
    "                m2.add_constraint(\n",
    "                    tc[j][v2] + delta * x[j] + slew_time_day[i][j] - tc[i][v1] <= M * s[i][j],\n",
    "                    ctname=f\"non_overlapping_cross_fields_{j}_{i}_visits_{v1}_{v2}\"\n",
    "                )\n",
    "                \n",
    "# for v in range(num_visits * num_filters):  # Check within the same visit\n",
    "#     for i in range(len(selected_fields)):\n",
    "#         for j in range(i):\n",
    "#             # Ensure no overlap within the same visit\n",
    "#             m2.add_constraint(\n",
    "#                 tc[i][v] + delta * x[i] + slew_time_day[i][j] - tc[j][v] <= M * (1 - s[i][j]),\n",
    "#                 ctname=f\"non_overlapping_within_fields_{i}_{j}_visit_{v}\"\n",
    "#             )\n",
    "#             m2.add_constraint(\n",
    "#                 tc[j][v] + delta * x[j] + slew_time_day[i][j] - tc[i][v] <= M * s[i][j],\n",
    "#                 ctname=f\"non_overlapping_within_fields_{j}_{i}_visit_{v}\"\n",
    "#             )\n",
    "\n",
    "# for v1 in range(num_visits * num_filters):  # Check across different visits\n",
    "#     for v2 in range(v1 + 1, num_visits * num_filters):  # Compare subsequent visits\n",
    "#         for i in range(len(selected_fields)):\n",
    "#             for j in range(i):\n",
    "#                 # Ensure no overlap between fields i and j across different visits\n",
    "#                 m2.add_constraint(\n",
    "#                     tc[i][v1] + delta * x[i] + slew_time_day[i][j] - tc[j][v2] <= M * (1 - s[i][j]),\n",
    "#                     ctname=f\"non_overlapping_cross_fields_{i}_{j}_visits_{v1}_{v2}\"\n",
    "#                 )\n",
    "#                 m2.add_constraint(\n",
    "#                     tc[j][v1] + delta * x[j] + slew_time_day[i][j] - tc[i][v2] <= M * s[i][j],\n",
    "#                     ctname=f\"non_overlapping_cross_fields_{j}_{i}_visits_{v1}_{v2}\"\n",
    "#                 )\n",
    "\n",
    "\n",
    "\n",
    "# for v in range(1,num_visits*num_filters):\n",
    "#     for i in range(len(selected_fields)):\n",
    "#         m2.add_constraint(tc[i][v] >= tc[-1][v-1] + delta * x[i], ctname = \"non overlapping visits\")\n",
    "    \n",
    "# m2.maximize(m2.sum([probabilities[i] * x[i] for i in range(len(selected_fields))]))\n",
    "m2.maximize(m2.sum([x[i] for i in range(len(selected_fields))]))\n",
    "m2.parameters.timelimit = 60\n",
    "solution = m2.solve(log_output=True)"
   ]
  },
  {
   "cell_type": "markdown",
   "metadata": {},
   "source": [
    "### exctracting solution"
   ]
  },
  {
   "cell_type": "code",
   "execution_count": 38,
   "metadata": {},
   "outputs": [
    {
     "data": {
      "text/plain": [
       "docplex.mp.solution.SolveSolution(obj=0,values={s_1_0:1,s_4_3:1,s_5_3:1,.."
      ]
     },
     "execution_count": 38,
     "metadata": {},
     "output_type": "execute_result"
    }
   ],
   "source": [
    "solution"
   ]
  },
  {
   "cell_type": "code",
   "execution_count": 39,
   "metadata": {},
   "outputs": [
    {
     "ename": "IndexError",
     "evalue": "too many indices for array: array is 1-dimensional, but 2 were indexed",
     "output_type": "error",
     "traceback": [
      "\u001b[0;31m---------------------------------------------------------------------------\u001b[0m",
      "\u001b[0;31mIndexError\u001b[0m                                Traceback (most recent call last)",
      "Cell \u001b[0;32mIn[39], line 9\u001b[0m\n\u001b[1;32m      6\u001b[0m scheduled_tc \u001b[38;5;241m=\u001b[39m np\u001b[38;5;241m.\u001b[39masarray(scheduled_tc)\n\u001b[1;32m      8\u001b[0m \u001b[38;5;28;01mfor\u001b[39;00m i \u001b[38;5;129;01min\u001b[39;00m \u001b[38;5;28mrange\u001b[39m(num_visits\u001b[38;5;241m*\u001b[39mnum_filters):\n\u001b[0;32m----> 9\u001b[0m     scheduled_fields[\u001b[38;5;124mf\u001b[39m\u001b[38;5;124m\"\u001b[39m\u001b[38;5;124mScheduled_start_filt_times_\u001b[39m\u001b[38;5;132;01m{\u001b[39;00mi\u001b[38;5;132;01m}\u001b[39;00m\u001b[38;5;124m\"\u001b[39m] \u001b[38;5;241m=\u001b[39m \u001b[43mscheduled_tc\u001b[49m\u001b[43m[\u001b[49m\u001b[43m:\u001b[49m\u001b[43m,\u001b[49m\u001b[43mi\u001b[49m\u001b[43m]\u001b[49m\n",
      "\u001b[0;31mIndexError\u001b[0m: too many indices for array: array is 1-dimensional, but 2 were indexed"
     ]
    }
   ],
   "source": [
    "# Get the indices of scheduled fields\n",
    "scheduled_fields_ID = [i for i, v in enumerate(x) if v.solution_value == 1]\n",
    "scheduled_fields = selected_fields[scheduled_fields_ID]\n",
    "# scheduled_fields\n",
    "scheduled_tc = [[solution.get_value(tc[i][v]) for v in range(num_visits * num_filters)] for i in scheduled_fields_ID]\n",
    "scheduled_tc = np.asarray(scheduled_tc)\n",
    "\n",
    "for i in range(num_visits*num_filters):\n",
    "    scheduled_fields[f\"Scheduled_start_filt_times_{i}\"] = scheduled_tc[:,i]"
   ]
  },
  {
   "cell_type": "markdown",
   "metadata": {},
   "source": [
    "#### garbage"
   ]
  },
  {
   "cell_type": "markdown",
   "metadata": {},
   "source": [
    "## plotting"
   ]
  },
  {
   "cell_type": "code",
   "execution_count": null,
   "metadata": {},
   "outputs": [
    {
     "name": "stderr",
     "output_type": "stream",
     "text": [
      "WARNING: TimeDeltaMissingUnitWarning: Numerical value without unit or explicit format passed to TimeDelta, assuming days [astropy.time.core]\n",
      "/u/ywagh/.local/lib/python3.10/site-packages/erfa/core.py:133: ErfaWarning: ERFA function \"utctai\" yielded 1 of \"dubious year (Note 3)\"\n",
      "  warn(f'ERFA function \"{func_name}\" yielded {wmsg}', ErfaWarning)\n",
      "/u/ywagh/.local/lib/python3.10/site-packages/erfa/core.py:133: ErfaWarning: ERFA function \"taiutc\" yielded 1 of \"dubious year (Note 4)\"\n",
      "  warn(f'ERFA function \"{func_name}\" yielded {wmsg}', ErfaWarning)\n",
      "WARNING: TimeDeltaMissingUnitWarning: Numerical value without unit or explicit format passed to TimeDelta, assuming days [astropy.time.core]\n",
      "/u/ywagh/.local/lib/python3.10/site-packages/erfa/core.py:133: ErfaWarning: ERFA function \"utctai\" yielded 1 of \"dubious year (Note 3)\"\n",
      "  warn(f'ERFA function \"{func_name}\" yielded {wmsg}', ErfaWarning)\n",
      "/u/ywagh/.local/lib/python3.10/site-packages/erfa/core.py:133: ErfaWarning: ERFA function \"taiutc\" yielded 1 of \"dubious year (Note 4)\"\n",
      "  warn(f'ERFA function \"{func_name}\" yielded {wmsg}', ErfaWarning)\n",
      "WARNING: TimeDeltaMissingUnitWarning: Numerical value without unit or explicit format passed to TimeDelta, assuming days [astropy.time.core]\n",
      "/u/ywagh/.local/lib/python3.10/site-packages/erfa/core.py:133: ErfaWarning: ERFA function \"utctai\" yielded 1 of \"dubious year (Note 3)\"\n",
      "  warn(f'ERFA function \"{func_name}\" yielded {wmsg}', ErfaWarning)\n",
      "/u/ywagh/.local/lib/python3.10/site-packages/erfa/core.py:133: ErfaWarning: ERFA function \"taiutc\" yielded 1 of \"dubious year (Note 4)\"\n",
      "  warn(f'ERFA function \"{func_name}\" yielded {wmsg}', ErfaWarning)\n",
      "WARNING: TimeDeltaMissingUnitWarning: Numerical value without unit or explicit format passed to TimeDelta, assuming days [astropy.time.core]\n",
      "/u/ywagh/.local/lib/python3.10/site-packages/erfa/core.py:133: ErfaWarning: ERFA function \"utctai\" yielded 1 of \"dubious year (Note 3)\"\n",
      "  warn(f'ERFA function \"{func_name}\" yielded {wmsg}', ErfaWarning)\n",
      "/u/ywagh/.local/lib/python3.10/site-packages/erfa/core.py:133: ErfaWarning: ERFA function \"taiutc\" yielded 1 of \"dubious year (Note 4)\"\n",
      "  warn(f'ERFA function \"{func_name}\" yielded {wmsg}', ErfaWarning)\n"
     ]
    },
    {
     "data": {
      "image/png": "[encoded data removed]",
      "text/plain": [
       "<Figure size 800x1200 with 4 Axes>"
      ]
     },
     "metadata": {},
     "output_type": "display_data"
    }
   ],
   "source": [
    "n_visits = num_visits*num_filters  \n",
    "\n",
    "fig, axes = plt.subplots(n_visits, 1, figsize=(8, 3 * n_visits), sharex=True)\n",
    "\n",
    "for i in range(n_visits):\n",
    "    start_col = f'Scheduled_start_filt_times_{i}'\n",
    "    end_col = f'Scheduled_end_filt_times_{i}'\n",
    "    \n",
    "    scheduled_fields[start_col] = Time(scheduled_fields[start_col], format='mjd')\n",
    "    scheduled_fields[start_col].format = 'iso'\n",
    "    scheduled_fields[end_col] = scheduled_fields[start_col] + exposure_time_day\n",
    "    \n",
    "    scheduled_fields.sort(end_col)\n",
    "    \n",
    "    ax = axes[i]  \n",
    "    ax.hlines(\n",
    "        np.arange(len(scheduled_fields)),\n",
    "        scheduled_fields[start_col].mjd,\n",
    "        scheduled_fields[end_col].mjd,\n",
    "        colors='blue',\n",
    "        linewidth=2\n",
    "    )\n",
    "    for j in range(len(scheduled_fields)):\n",
    "        ax.vlines(\n",
    "            scheduled_fields[start_col][j].mjd,\n",
    "            ymin=j - 0.2,\n",
    "            ymax=j + 0.2,\n",
    "            color='black',\n",
    "            linewidth=0.5,\n",
    "            linestyle='-'\n",
    "        )\n",
    "        ax.vlines(\n",
    "            scheduled_fields[end_col][j].mjd,\n",
    "            ymin=j - 0.2,\n",
    "            ymax=j + 0.2,\n",
    "            color='black',\n",
    "            linewidth=0.5,\n",
    "            linestyle='-'\n",
    "        )\n",
    "    \n",
    "    ax.set_yticks(np.arange(len(scheduled_fields)))\n",
    "    ax.set_yticklabels(scheduled_fields['field_id'].astype(str))\n",
    "    ax.set_ylabel('Field ID')\n",
    "    ax.set_title(f'Observation Schedule for Visit {i + 1}')\n",
    "    \n",
    "axes[-1].set_xlabel('Observation time (MJD)')\n",
    "\n",
    "plt.tight_layout()\n",
    "plt.show()\n"
   ]
  },
  {
   "cell_type": "code",
   "execution_count": null,
   "metadata": {},
   "outputs": [],
   "source": []
  }
 ],
 "metadata": {
  "kernelspec": {
   "display_name": "MILP_3",
   "language": "python",
   "name": "python3"
  },
  "language_info": {
   "codemirror_mode": {
    "name": "ipython",
    "version": 3
   },
   "file_extension": ".py",
   "mimetype": "text/x-python",
   "name": "python",
   "nbconvert_exporter": "python",
   "pygments_lexer": "ipython3",
   "version": "3.10.8"
  }
 },
 "nbformat": 4,
 "nbformat_minor": 2
}
