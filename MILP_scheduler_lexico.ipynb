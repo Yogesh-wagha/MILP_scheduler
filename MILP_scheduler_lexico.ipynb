{
 "cells": [
  {
   "cell_type": "code",
   "execution_count": 12,
   "metadata": {},
   "outputs": [],
   "source": [
    "import astroplan\n",
    "from astropy.coordinates import ICRS, SkyCoord, AltAz, get_moon, EarthLocation, get_body\n",
    "from astropy import units as u\n",
    "from astropy.utils.data import download_file\n",
    "from astropy.table import Table, QTable, join\n",
    "from astropy.time import Time, TimeDelta\n",
    "from astropy_healpix import *\n",
    "from ligo.skymap import plot\n",
    "from ligo.skymap.io import read_sky_map\n",
    "import healpy as hp\n",
    "import os\n",
    "from matplotlib import pyplot as plt\n",
    "import numpy as np\n",
    "from tqdm.auto import tqdm\n",
    "import datetime as dt\n",
    "import pickle\n",
    "import pandas as pd\n",
    "from docplex.mp.model import Model\n",
    "\n",
    "import warnings\n",
    "warnings.filterwarnings(\"ignore\", \"Wswiglal-redir-stdio\")\n",
    "warnings.simplefilter('ignore', astroplan.TargetNeverUpWarning)\n",
    "warnings.simplefilter('ignore', astroplan.TargetAlwaysUpWarning)"
   ]
  },
  {
   "cell_type": "code",
   "execution_count": 13,
   "metadata": {},
   "outputs": [],
   "source": [
    "directory_path = \"/u/ywagh/test_skymaps/\"\n",
    "filelist = sorted([f for f in os.listdir(directory_path) if f.endswith('.gz')])"
   ]
  },
  {
   "cell_type": "code",
   "execution_count": 14,
   "metadata": {},
   "outputs": [],
   "source": [
    "slew_speed = 2.5 * u.deg / u.s\n",
    "slew_accel = 0.4 * u.deg / u.s**2\n",
    "readout = 8.2 * u.s"
   ]
  },
  {
   "cell_type": "code",
   "execution_count": 15,
   "metadata": {},
   "outputs": [],
   "source": [
    "ns_nchips = 4\n",
    "ew_nchips = 4\n",
    "ns_npix = 6144\n",
    "ew_npix = 6160\n",
    "plate_scale = 1.01 * u.arcsec\n",
    "ns_chip_gap = 0.205 * u.deg\n",
    "ew_chip_gap = 0.140 * u.deg\n",
    "\n",
    "ns_total = ns_nchips * ns_npix * plate_scale + (ns_nchips - 1) * ns_chip_gap\n",
    "ew_total = ew_nchips * ew_npix * plate_scale + (ew_nchips - 1) * ew_chip_gap\n",
    "\n",
    "rcid = np.arange(64)\n",
    "\n",
    "chipid, rc_in_chip_id = np.divmod(rcid, 4)\n",
    "ns_chip_index, ew_chip_index = np.divmod(chipid, ew_nchips)\n",
    "ns_rc_in_chip_index = np.where(rc_in_chip_id <= 1, 1, 0)\n",
    "ew_rc_in_chip_index = np.where((rc_in_chip_id == 0) | (rc_in_chip_id == 3), 0, 1)\n",
    "\n",
    "ew_offsets = ew_chip_gap * (ew_chip_index - (ew_nchips - 1) / 2) + ew_npix * plate_scale * (ew_chip_index - ew_nchips / 2) + 0.5 * ew_rc_in_chip_index * plate_scale * ew_npix\n",
    "ns_offsets = ns_chip_gap * (ns_chip_index - (ns_nchips - 1) / 2) + ns_npix * plate_scale * (ns_chip_index - ns_nchips / 2) + 0.5 * ns_rc_in_chip_index * plate_scale * ns_npix\n",
    "\n",
    "ew_ccd_corners = 0.5 * plate_scale * np.asarray([ew_npix, 0, 0, ew_npix])\n",
    "ns_ccd_corners = 0.5 * plate_scale * np.asarray([ns_npix, ns_npix, 0, 0])\n",
    "\n",
    "ew_vertices = ew_offsets[:, np.newaxis] + ew_ccd_corners[np.newaxis, :]\n",
    "ns_vertices = ns_offsets[:, np.newaxis] + ns_ccd_corners[np.newaxis, :]\n",
    "\n",
    "def get_footprint(center):\n",
    "    return SkyCoord(\n",
    "        ew_vertices, ns_vertices,\n",
    "        frame=center[..., np.newaxis, np.newaxis].skyoffset_frame()\n",
    "    ).icrs\n",
    "\n",
    "url = 'https://github.com/ZwickyTransientFacility/ztf_information/raw/master/field_grid/ZTF_Fields.txt'\n",
    "filename = download_file(url)\n",
    "field_grid = QTable(np.recfromtxt(filename, comments='%', usecols=range(3), names=['field_id', 'ra', 'dec']))\n",
    "field_grid['coord'] = SkyCoord(field_grid.columns.pop('ra') * u.deg, field_grid.columns.pop('dec') * u.deg)\n",
    "field_grid = field_grid[0:881]   #working only with primary fields"
   ]
  },
  {
   "cell_type": "code",
   "execution_count": 16,
   "metadata": {},
   "outputs": [],
   "source": [
    "#******************************************************************************\n",
    "skymap, metadata = read_sky_map(os.path.join(directory_path, filelist[7]))\n",
    "\n",
    "plot_filename = os.path.basename(filelist[7])\n",
    "#******************************************************************************"
   ]
  },
  {
   "cell_type": "code",
   "execution_count": 17,
   "metadata": {},
   "outputs": [
    {
     "name": "stdout",
     "output_type": "stream",
     "text": [
      "event time: 2019-12-12 08:27:28.643\n"
     ]
    },
    {
     "name": "stderr",
     "output_type": "stream",
     "text": [
      "/u/ywagh/.local/lib/python3.10/site-packages/astropy/units/quantity.py:671: RuntimeWarning: invalid value encountered in divide\n",
      "  result = super().__array_ufunc__(function, method, *arrays, **kwargs)\n"
     ]
    },
    {
     "data": {
      "application/vnd.jupyter.widget-view+json": {
       "model_id": "3ae0f3ae65444d9991a8779dbe6e06d9",
       "version_major": 2,
       "version_minor": 0
      },
      "text/plain": [
       "  0%|          | 0/393 [00:00<?, ?it/s]"
      ]
     },
     "metadata": {},
     "output_type": "display_data"
    },
    {
     "name": "stdout",
     "output_type": "stream",
     "text": [
      "28  number of exposures could be taken tonight\n",
      "problem setup completed\n"
     ]
    }
   ],
   "source": [
    "event_time = Time(metadata['gps_time'], format='gps').utc\n",
    "event_time.format = 'iso'\n",
    "print('event time:',event_time)\n",
    "observer = astroplan.Observer.at_site('Palomar')\n",
    "night_horizon = -18 * u.deg\n",
    "if observer.is_night(event_time, horizon=night_horizon):\n",
    "    start_time = event_time\n",
    "else:\n",
    "    start_time = observer.sun_set_time(\n",
    "        event_time, horizon=night_horizon, which='next')\n",
    "\n",
    "# Find the latest possible end time of observations: the time of sunrise.\n",
    "end_time = observer.sun_rise_time(\n",
    "    start_time, horizon=night_horizon, which='next')\n",
    "\n",
    "min_airmass = 2.5 * u.dimensionless_unscaled\n",
    "airmass_horizon = (90 * u.deg - np.arccos(1 / min_airmass))\n",
    "targets = field_grid['coord']\n",
    "\n",
    "# Find the time that each field rises and sets above an airmass of 2.5.\n",
    "target_start_time = Time(np.where(\n",
    "    observer.target_is_up(start_time, targets, horizon=airmass_horizon),\n",
    "    start_time,\n",
    "    observer.target_rise_time(start_time, targets, which='next', horizon=airmass_horizon)))\n",
    "target_start_time.format = 'iso'\n",
    "\n",
    "# Find the time that each field sets below the airmass limit. If the target\n",
    "# is always up (i.e., it's circumpolar) or if it sets after surnsise,\n",
    "# then set the end time to sunrise.\n",
    "target_end_time = observer.target_set_time(\n",
    "    target_start_time, targets, which='next', horizon=airmass_horizon)\n",
    "target_end_time[\n",
    "    (target_end_time.mask & ~target_start_time.mask) | (target_end_time > end_time)\n",
    "] = end_time\n",
    "target_end_time.format = 'iso'\n",
    "# Select fields that are observable for long enough for at least one exposure\n",
    "# sequence of 1800 second.\n",
    "exposure_time = 300 * u.second\n",
    "field_grid['start_time'] = target_start_time\n",
    "field_grid['end_time'] = target_end_time\n",
    "observable_fields = field_grid[target_end_time - target_start_time >= exposure_time]\n",
    "\n",
    "# print(observable_fields)\n",
    "hpx = HEALPix(nside=256, frame=ICRS())\n",
    "\n",
    "footprint = np.moveaxis(\n",
    "    get_footprint(SkyCoord(0 * u.deg, 0 * u.deg)).cartesian.xyz.value, 0, -1)\n",
    "footprint_healpix = np.unique(np.concatenate(\n",
    "    [hp.query_polygon(hpx.nside, v, nest=(hpx.order == 'nested')) for v in footprint]))\n",
    "\n",
    "'''\n",
    "# computing the footprints of every ZTF field as HEALPix indices. Downsampling skymap to same resolution.\n",
    "'''\n",
    "footprints = np.moveaxis(get_footprint(observable_fields['coord']).cartesian.xyz.value, 0, -1)\n",
    "footprints_healpix = [\n",
    "    np.unique(np.concatenate([hp.query_polygon(hpx.nside, v) for v in footprint]))\n",
    "    for footprint in tqdm(footprints)]\n",
    "\n",
    "prob = hp.ud_grade(skymap, hpx.nside, power=-2)\n",
    "\n",
    "# k = max number of 300s exposures \n",
    "min_start = min(observable_fields['start_time'])\n",
    "max_end =max(observable_fields['end_time'])\n",
    "min_start.format = 'jd'\n",
    "max_end.format = 'jd'\n",
    "k = int(np.floor((max_end - min_start)/(2*exposure_time.to(u.day))))\n",
    "print(k,\" number of exposures could be taken tonight\")\n",
    "\n",
    "print(\"problem setup completed\")"
   ]
  },
  {
   "cell_type": "markdown",
   "metadata": {},
   "source": [
    "## Model one"
   ]
  },
  {
   "cell_type": "code",
   "execution_count": 18,
   "metadata": {},
   "outputs": [
    {
     "name": "stdout",
     "output_type": "stream",
     "text": [
      "number fo fields observed should be less than k\n",
      "Version identifier: 22.1.1.0 | 2022-11-28 | 9160aff4d\n",
      "CPXPARAM_Read_DataCheck                          1\n",
      "Found incumbent of value 0.000000 after 0.02 sec. (24.20 ticks)\n",
      "Tried aggregator 3 times.\n",
      "MIP Presolve eliminated 785920 rows and 728657 columns.\n",
      "Aggregator did 98 substitutions.\n",
      "Reduced MIP has 415 rows, 512 columns, and 1596 nonzeros.\n",
      "Reduced MIP has 512 binaries, 0 generals, 0 SOSs, and 0 indicators.\n",
      "Presolve time = 0.56 sec. (694.63 ticks)\n",
      "Probing time = 0.00 sec. (0.11 ticks)\n",
      "Tried aggregator 1 time.\n",
      "Detecting symmetries...\n",
      "Reduced MIP has 415 rows, 512 columns, and 1596 nonzeros.\n",
      "Reduced MIP has 512 binaries, 0 generals, 0 SOSs, and 0 indicators.\n",
      "Presolve time = 0.00 sec. (1.10 ticks)\n",
      "Probing time = 0.00 sec. (0.11 ticks)\n",
      "MIP emphasis: balance optimality and feasibility.\n",
      "MIP search method: dynamic search.\n",
      "Parallel mode: deterministic, using up to 32 threads.\n",
      "Root relaxation solution time = 0.00 sec. (0.62 ticks)\n",
      "\n",
      "        Nodes                                         Cuts/\n",
      "   Node  Left     Objective  IInf  Best Integer    Best Bound    ItCnt     Gap\n",
      "\n",
      "*     0+    0                            0.0000        0.7936              --- \n",
      "*     0     0      integral     0        0.7633        0.7633      246    0.00%\n",
      "Elapsed time = 0.68 sec. (843.69 ticks, tree = 0.00 MB, solutions = 2)\n",
      "\n",
      "Root node processing (before b&c):\n",
      "  Real time             =    0.70 sec. (871.46 ticks)\n",
      "Parallel b&c, 32 threads:\n",
      "  Real time             =    0.00 sec. (0.00 ticks)\n",
      "  Sync time (average)   =    0.00 sec.\n",
      "  Wait time (average)   =    0.00 sec.\n",
      "                          ------------\n",
      "Total (root+branch&cut) =    0.70 sec. (871.46 ticks)\n",
      "optimization completed\n",
      "Total probability covered: 0.7633330517510659\n"
     ]
    }
   ],
   "source": [
    "m1 = Model('max coverage problem')\n",
    "\n",
    "field_vars = m1.binary_var_list(len(footprints), name='field')\n",
    "pixel_vars = m1.binary_var_list(hpx.npix, name='pixel')\n",
    "\n",
    "footprints_healpix_inverse = [[] for _ in range(hpx.npix)]\n",
    "\n",
    "for field, pixels in enumerate(footprints_healpix):\n",
    "    for pixel in pixels:\n",
    "        footprints_healpix_inverse[pixel].append(field)\n",
    "\n",
    "for i_pixel, i_fields in enumerate(footprints_healpix_inverse):\n",
    "     m1.add_constraint(m1.sum(field_vars[i] for i in i_fields) >= pixel_vars[i_pixel])\n",
    "\n",
    "m1.add_constraint(m1.sum(field_vars) <= k)\n",
    "m1.maximize(m1.dot(pixel_vars, prob))\n",
    "print(\"number fo fields observed should be less than k\")\n",
    "\n",
    "solution = m1.solve(log_output=True)\n",
    "\n",
    "print(\"optimization completed\")\n",
    "total_prob_covered = solution.objective_value\n",
    "\n",
    "print(\"Total probability covered:\",total_prob_covered)\n"
   ]
  },
  {
   "cell_type": "code",
   "execution_count": 19,
   "metadata": {},
   "outputs": [],
   "source": [
    "selected_fields_ID = [i for i, v in enumerate(field_vars) if v.solution_value == 1]\n",
    "\n",
    "selected_fields = observable_fields[selected_fields_ID]\n",
    "\n",
    "\n",
    "separation_matrix = selected_fields['coord'][:,np.newaxis].separation(selected_fields['coord'][np.newaxis,:])\n",
    "\n",
    "def slew_time(separation):\n",
    "   return np.where(\n",
    "       separation <= (slew_speed**2 / slew_accel), \n",
    "       np.sqrt(2 * separation / slew_accel), \n",
    "       (2 * slew_speed / slew_accel) + (separation - slew_speed**2 / slew_accel) / slew_speed\n",
    "       )\n",
    "\n",
    "slew_times = slew_time(separation_matrix).value\n",
    "\n",
    "# slew_time_max = np.max(slew_times) * u.second\n",
    "# slew_time_max_ = slew_time_max.to_value(u.day) #test"
   ]
  },
  {
   "cell_type": "markdown",
   "metadata": {},
   "source": [
    "## model two"
   ]
  },
  {
   "cell_type": "code",
   "execution_count": 20,
   "metadata": {},
   "outputs": [
    {
     "data": {
      "application/vnd.jupyter.widget-view+json": {
       "model_id": "4ce7e514cefa4c17bdc63d01cded7f81",
       "version_major": 2,
       "version_minor": 0
      },
      "text/plain": [
       "  0%|          | 0/28 [00:00<?, ?it/s]"
      ]
     },
     "metadata": {},
     "output_type": "display_data"
    },
    {
     "name": "stdout",
     "output_type": "stream",
     "text": [
      "worked for 28 fields\n",
      "Version identifier: 22.1.1.0 | 2022-11-28 | 9160aff4d\n",
      "CPXPARAM_Read_DataCheck                          1\n",
      "CPXPARAM_TimeLimit                               60\n",
      "Tried aggregator 1 time.\n",
      "MIP Presolve modified 1134 coefficients.\n",
      "Reduced MIP has 756 rows, 434 columns, and 3024 nonzeros.\n",
      "Reduced MIP has 406 binaries, 0 generals, 0 SOSs, and 0 indicators.\n",
      "Presolve time = 0.00 sec. (1.32 ticks)\n",
      "Found incumbent of value 0.000000 after 0.00 sec. (1.97 ticks)\n",
      "Probing time = 0.00 sec. (1.51 ticks)\n",
      "Tried aggregator 1 time.\n",
      "Detecting symmetries...\n",
      "MIP Presolve modified 28 coefficients.\n",
      "Reduced MIP has 756 rows, 434 columns, and 3024 nonzeros.\n",
      "Reduced MIP has 406 binaries, 0 generals, 0 SOSs, and 0 indicators.\n",
      "Presolve time = 0.00 sec. (1.59 ticks)\n",
      "Probing time = 0.00 sec. (1.51 ticks)\n",
      "MIP emphasis: balance optimality and feasibility.\n",
      "MIP search method: dynamic search.\n",
      "Parallel mode: deterministic, using up to 32 threads.\n",
      "Root relaxation solution time = 0.01 sec. (9.28 ticks)\n",
      "\n",
      "        Nodes                                         Cuts/\n",
      "   Node  Left     Objective  IInf  Best Integer    Best Bound    ItCnt     Gap\n",
      "\n",
      "*     0+    0                            0.0000        0.8584              --- \n",
      "*     0+    0                            0.0249        0.8584              --- \n",
      "      0     0        0.8584   224        0.0249        0.8584      404     --- \n",
      "      0     0        0.8584    36        0.0249    MIRcuts: 1      405     --- \n",
      "      0     0        0.8584    36        0.0249      Cuts: 15      434     --- \n",
      "      0     0        0.8584    31        0.0249       Cuts: 3      441     --- \n",
      "*     0+    0                            0.5796        0.8584            48.11%\n",
      "*     0+    0                            0.5849        0.8584            46.77%\n",
      "Detecting symmetries...\n",
      "      0     2        0.8584    31        0.5849        0.8584      441   46.77%\n",
      "Elapsed time = 0.18 sec. (94.54 ticks, tree = 0.02 MB, solutions = 4)\n",
      "*    14+    9                            0.6074        0.8584            41.33%\n",
      "*    14+    3                            0.6399        0.8584            34.16%\n",
      "*    26+    9                            0.6835        0.8584            25.60%\n",
      "*   261+   40                            0.7007        0.8584            22.52%\n",
      "*   266+    3                            0.7054        0.8584            21.69%\n",
      "*   299+   64                            0.7269        0.8584            18.10%\n",
      "*   304+   81                            0.7322        0.8584            17.25%\n",
      "*   318+   90                            0.7424        0.8584            15.63%\n",
      "*   380+   95                            0.7480        0.8584            14.77%\n",
      "*   754+  221                            0.7544        0.8584            13.79%\n",
      "*   827+  299                            0.7706        0.8584            11.40%\n",
      "*   934+  424                            0.7870        0.8584             9.08%\n",
      "*  1375+  841                            0.8066        0.8584             6.43%\n",
      "*  1797+  995                            0.8197        0.8584             4.72%\n",
      "*  3093+ 1505                            0.8363        0.8584             2.64%\n",
      "*  6173+ 1444                            0.8419        0.8584             1.97%\n",
      "* 10299+ 3047                            0.8529        0.8584             0.65%\n",
      "  16480  2222    infeasible              0.8529        0.8584    42061    0.65%\n",
      "\n",
      "Performing restart 1\n",
      "\n",
      "Repeating presolve.\n",
      "Tried aggregator 1 time.\n",
      "MIP Presolve eliminated 0 rows and 28 columns.\n",
      "Reduced MIP has 756 rows, 406 columns, and 2268 nonzeros.\n",
      "Reduced MIP has 378 binaries, 0 generals, 0 SOSs, and 0 indicators.\n",
      "Presolve time = 0.00 sec. (0.97 ticks)\n",
      "Tried aggregator 1 time.\n",
      "Reduced MIP has 756 rows, 406 columns, and 2268 nonzeros.\n",
      "Reduced MIP has 378 binaries, 0 generals, 0 SOSs, and 0 indicators.\n",
      "Presolve time = 0.00 sec. (1.24 ticks)\n",
      "Represolve time = 0.01 sec. (5.52 ticks)\n",
      "  16740     0        0.8584    29        0.8529      Cuts: 81    52832    0.65%\n",
      "  16740     0        0.8584    34        0.8529      Cuts: 46    52883    0.65%\n",
      "  16740     0        0.8584    24        0.8529       Cuts: 9    52895    0.65%\n",
      "  16740     0        0.8584    26        0.8529      Cuts: 28    52922    0.65%\n",
      "* 16740+    0                            0.8584        0.8584             0.00%\n",
      "\n",
      "Cover cuts applied:  28\n",
      "Implied bound cuts applied:  1\n",
      "Flow cuts applied:  2\n",
      "Mixed integer rounding cuts applied:  3\n",
      "Gomory fractional cuts applied:  4\n",
      "\n",
      "Root node processing (before b&c):\n",
      "  Real time             =    0.17 sec. (94.40 ticks)\n",
      "Parallel b&c, 32 threads:\n",
      "  Real time             =    0.70 sec. (443.04 ticks)\n",
      "  Sync time (average)   =    0.23 sec.\n",
      "  Wait time (average)   =    0.00 sec.\n",
      "                          ------------\n",
      "Total (root+branch&cut) =    0.86 sec. (537.44 ticks)\n",
      "Optimization completed\n"
     ]
    }
   ],
   "source": [
    "m2 = Model(\"Telescope timings\")\n",
    "\n",
    "observer_location = EarthLocation.of_site('Palomar')\n",
    "\n",
    "# def get_moon_position(time):\n",
    "#     return get_moon(time, location=observer_location)\n",
    "\n",
    "#calculate the probability for all the selected fields\n",
    "footprints_selected = np.moveaxis(get_footprint(selected_fields['coord']).cartesian.xyz.value, 0, -1)\n",
    "footprints_healpix_selected = [\n",
    "    np.unique(np.concatenate([hp.query_polygon(hpx.nside, v) for v in footprint]))\n",
    "    for footprint in tqdm(footprints_selected)]\n",
    "\n",
    "probabilities = []\n",
    "\n",
    "for field_index in range(len(footprints_healpix_selected)):\n",
    "    probability_field = np.sum(prob[footprints_healpix_selected[field_index]])\n",
    "    probabilities.append(probability_field)\n",
    "print(\"worked for\",len(probabilities),\"fields\")\n",
    "\n",
    "selected_fields['probabilities'] = probabilities\n",
    "\n",
    "delta = exposure_time.to_value(u.day)\n",
    "M = (selected_fields['end_time'].max() - selected_fields['start_time'].min()).to_value(u.day).item()\n",
    "M = M * 20\n",
    "# moon_proximity = m2.binary_var_list(len(selected_fields), name='selected field')\n",
    "x = m2.binary_var_list(len(selected_fields), name='selected field')\n",
    "s = [[m2.binary_var(name=f's_{i}_{j}') for j in range(i)] for i in range(len(selected_fields))]\n",
    "\n",
    "tc = [m2.continuous_var(\n",
    "        lb=(row['start_time'] - start_time).to_value(u.day),\n",
    "        ub=(row['end_time'] - start_time - exposure_time).to_value(u.day),\n",
    "        name=f'start_times_{i}'\n",
    "     ) for i, row in enumerate(selected_fields)]\n",
    "\n",
    "slew_time_value = slew_times*u.second\n",
    "slew_time_day = slew_time_value.to_value(u.day)\n",
    "\n",
    "w = 0.1 #wight factor for slew time minimization\n",
    "        \n",
    "for i in range(len(tc)):\n",
    "    for j in range(i):\n",
    "        m2.add_constraint(tc[i] + delta * x[i] + slew_time_day[i][j] - tc[j] <= M * (1 - s[i][j]),\n",
    "                          ctname=f'non_overlap_gap_1_{i}_{j}')\n",
    "        m2.add_constraint(tc[j] + delta * x[j] + slew_time_day[i][j] - tc[i] <= M * s[i][j], \n",
    "                          ctname=f'non_overlap_gap_2_{i}_{j}')\n",
    "\n",
    "#moon distance constraint\n",
    "\n",
    "m2.maximize(m2.sum(probabilities[i] * x[i] for i in range(len(selected_fields))))\n",
    "\n",
    "# m2.maximize(m2.sum(x[i] for i in range(len(selected_fields))))\n",
    "\n",
    "# m2.maximize(m2.sum(probabilities[i] * x[i] for i in range(len(selected_fields))) \n",
    "#     - w * m2.sum(slew_times[i][j] * s[i][j] for i in range(len(selected_fields)) for j in range(i)))\n",
    "\n",
    "# m2.maximize(m2.sum(probabilities[i]*x[i] - w*slew_times[i][j]*s[i][j]*x[i] for i in range(len(selected_fields) for j in range(i))))\n",
    "# m2.maximize(m2.sum(probabilities[i] * x[i] - w * slew_times[i][j] * s[i][j] * x[i] for i in range(len(selected_fields)) for j in range(i)))\n",
    "\n",
    "m2.parameters.timelimit = 60\n",
    "solution = m2.solve(log_output=True)\n",
    "print(\"Optimization completed\")"
   ]
  },
  {
   "cell_type": "code",
   "execution_count": 23,
   "metadata": {},
   "outputs": [
    {
     "name": "stdout",
     "output_type": "stream",
     "text": [
      "##################The Number of Fields Scheduled:  28 #####################\n"
     ]
    },
    {
     "name": "stderr",
     "output_type": "stream",
     "text": [
      "/u/ywagh/.local/lib/python3.10/site-packages/erfa/core.py:133: ErfaWarning: ERFA function \"utctai\" yielded 28 of \"dubious year (Note 3)\"\n",
      "  warn(f'ERFA function \"{func_name}\" yielded {wmsg}', ErfaWarning)\n",
      "/u/ywagh/.local/lib/python3.10/site-packages/erfa/core.py:133: ErfaWarning: ERFA function \"taiutc\" yielded 28 of \"dubious year (Note 4)\"\n",
      "  warn(f'ERFA function \"{func_name}\" yielded {wmsg}', ErfaWarning)\n"
     ]
    },
    {
     "data": {
      "image/png": "[encoded data removed]",
      "text/plain": [
       "<Figure size 640x480 with 1 Axes>"
      ]
     },
     "metadata": {},
     "output_type": "display_data"
    }
   ],
   "source": [
    "scheduled_start_times = [solution.get_value(var) for var in tc]\n",
    "scheduled_fields = QTable(selected_fields)\n",
    "scheduled_fields['scheduled_start_time'] = Time(scheduled_start_times, format='mjd')\n",
    "scheduled_fields['scheduled_start_time'].format = 'iso'\n",
    "scheduled_fields['scheduled_end_time'] = scheduled_fields['scheduled_start_time'] + exposure_time\n",
    "scheduled_fields = scheduled_fields[np.asarray([solution.get_value(var) for var in x], dtype=bool)]\n",
    "scheduled_fields.sort('scheduled_start_time')\n",
    "print(\"##################The Number of Fields Scheduled: \",len(scheduled_fields),\"#####################\")\n",
    "\n",
    "fig, ax = plt.subplots()\n",
    "ax.hlines(\n",
    "    np.arange(len(scheduled_fields)), \n",
    "    scheduled_fields['scheduled_start_time'].mjd, \n",
    "    scheduled_fields['scheduled_end_time'].mjd, \n",
    "    colors='blue', linewidth=2\n",
    ")\n",
    "for i in range(len(scheduled_fields)):\n",
    "    ax.vlines(\n",
    "        scheduled_fields['scheduled_start_time'][i].mjd, \n",
    "        ymin=i - 2, ymax=i + 2, \n",
    "        color='black', linewidth=0.5, linestyle='-'  \n",
    "    )\n",
    "    ax.vlines(\n",
    "        scheduled_fields['scheduled_end_time'][i].mjd, \n",
    "        ymin=i - 2, ymax=i + 2, \n",
    "        color='black', linewidth=0.5, linestyle='-'  )\n",
    "ax.set_yticks(np.arange(len(scheduled_fields)), scheduled_fields['field_id'].astype(str))\n",
    "ax.set_yticklabels(scheduled_fields['field_id'].astype(str))\n",
    "ax.set_xlabel('Observation time (MJD)')\n",
    "ax.set_ylabel('Field ID')\n",
    "# plt.savefig('scheduler_slew_time_CPLEX_1.png', dpi=300, bbox_inches='tight')\n",
    "plt.show()"
   ]
  },
  {
   "cell_type": "code",
   "execution_count": 24,
   "metadata": {},
   "outputs": [
    {
     "data": {
      "image/png": "[encoded data removed]",
      "text/plain": [
       "<Figure size 1000x800 with 1 Axes>"
      ]
     },
     "metadata": {},
     "output_type": "display_data"
    }
   ],
   "source": [
    "scheduled_fields['cumulative_probability'] = np.cumsum(scheduled_fields['probabilities'])\n",
    "\n",
    "total_cum_prob = scheduled_fields['cumulative_probability'][-1]\n",
    "\n",
    "field_indices = np.arange(len(scheduled_fields))  \n",
    "field_ids = scheduled_fields['field_id'].astype(str) \n",
    "cumulative_prob = scheduled_fields['cumulative_probability'] \n",
    "\n",
    "fig, ax1 = plt.subplots(figsize=(10, 8))\n",
    "\n",
    "ax1.step(field_indices, cumulative_prob, where='mid', color='blue', label='Cumulative Probability')\n",
    "ax1.set_xlabel('Field Index')\n",
    "ax1.set_ylabel('Cumulative Probability', color='blue')\n",
    "ax1.tick_params(axis='y', labelcolor='blue')\n",
    "\n",
    "ax1.set_xticks(field_indices)\n",
    "ax1.set_xticklabels(field_ids, rotation=45, ha='right')\n",
    "\n",
    "ax1.legend(loc='upper left')\n",
    "\n",
    "plt.title(f'Total Cumulative Probability per Field:{total_cum_prob}')\n",
    "plt.tight_layout()\n",
    "plt.savefig('cumulative_prob_time_plot_w_05.png', dpi=300)\n",
    "plt.show()"
   ]
  },
  {
   "cell_type": "code",
   "execution_count": null,
   "metadata": {},
   "outputs": [],
   "source": []
  }
 ],
 "metadata": {
  "kernelspec": {
   "display_name": "MILP_3",
   "language": "python",
   "name": "python3"
  },
  "language_info": {
   "codemirror_mode": {
    "name": "ipython",
    "version": 3
   },
   "file_extension": ".py",
   "mimetype": "text/x-python",
   "name": "python",
   "nbconvert_exporter": "python",
   "pygments_lexer": "ipython3",
   "version": "3.10.8"
  }
 },
 "nbformat": 4,
 "nbformat_minor": 2
}
